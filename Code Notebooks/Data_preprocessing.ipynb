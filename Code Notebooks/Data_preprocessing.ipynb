{
 "cells": [
  {
   "cell_type": "markdown",
   "metadata": {},
   "source": [
    "# Mumbai House Price Prediction - Supervised Machine Learning-Regression Problem\n",
    "\n",
    "## Data Preprocessing"
   ]
  },
  {
   "cell_type": "markdown",
   "metadata": {},
   "source": [
    "# The main goal of this project is to Predict the price of the houses in Mumbai using their features."
   ]
  },
  {
   "cell_type": "markdown",
   "metadata": {},
   "source": [
    "# Import Libraries"
   ]
  },
  {
   "cell_type": "code",
   "execution_count": 1,
   "metadata": {},
   "outputs": [],
   "source": [
    "# importing necessary libraries\n",
    "\n",
    "import pandas as pd\n",
    "import matplotlib.pyplot as plt\n",
    "%matplotlib inline\n",
    "import seaborn as sns\n",
    "import numpy as np \n",
    "from scipy import stats\n",
    "import re"
   ]
  },
  {
   "cell_type": "markdown",
   "metadata": {},
   "source": [
    "# Load dataset "
   ]
  },
  {
   "cell_type": "code",
   "execution_count": 2,
   "metadata": {},
   "outputs": [
    {
     "name": "stderr",
     "output_type": "stream",
     "text": [
      "C:\\Users\\piyus\\anaconda3\\lib\\site-packages\\IPython\\core\\interactiveshell.py:3146: DtypeWarning: Columns (3) have mixed types.Specify dtype option on import or set low_memory=False.\n",
      "  has_raised = await self.run_ast_nodes(code_ast.body, cell_name,\n"
     ]
    },
    {
     "data": {
      "text/html": [
       "<div>\n",
       "<style scoped>\n",
       "    .dataframe tbody tr th:only-of-type {\n",
       "        vertical-align: middle;\n",
       "    }\n",
       "\n",
       "    .dataframe tbody tr th {\n",
       "        vertical-align: top;\n",
       "    }\n",
       "\n",
       "    .dataframe thead th {\n",
       "        text-align: right;\n",
       "    }\n",
       "</style>\n",
       "<table border=\"1\" class=\"dataframe\">\n",
       "  <thead>\n",
       "    <tr style=\"text-align: right;\">\n",
       "      <th></th>\n",
       "      <th>BHK</th>\n",
       "      <th>location</th>\n",
       "      <th>price(L)</th>\n",
       "      <th>rate_persqft</th>\n",
       "      <th>area_insqft</th>\n",
       "      <th>construction_status</th>\n",
       "      <th>type_of_sale</th>\n",
       "      <th>Sale_type</th>\n",
       "      <th>Bathroom</th>\n",
       "    </tr>\n",
       "  </thead>\n",
       "  <tbody>\n",
       "    <tr>\n",
       "      <th>0</th>\n",
       "      <td>1</td>\n",
       "      <td>Panvel</td>\n",
       "      <td>18.49</td>\n",
       "      <td>7034</td>\n",
       "      <td>263</td>\n",
       "      <td>Under Construction</td>\n",
       "      <td>Possession by Mar 2024New</td>\n",
       "      <td>new</td>\n",
       "      <td>NaN</td>\n",
       "    </tr>\n",
       "    <tr>\n",
       "      <th>1</th>\n",
       "      <td>1</td>\n",
       "      <td>Dombivali</td>\n",
       "      <td>40.00</td>\n",
       "      <td>11869</td>\n",
       "      <td>337</td>\n",
       "      <td>Under Construction</td>\n",
       "      <td>Possession by Nov 2023New</td>\n",
       "      <td>new</td>\n",
       "      <td>NaN</td>\n",
       "    </tr>\n",
       "    <tr>\n",
       "      <th>2</th>\n",
       "      <td>2</td>\n",
       "      <td>Koper Khairane</td>\n",
       "      <td>149.00</td>\n",
       "      <td>22513</td>\n",
       "      <td>664</td>\n",
       "      <td>Under Construction</td>\n",
       "      <td>Possession by Feb 2023New</td>\n",
       "      <td>new</td>\n",
       "      <td>NaN</td>\n",
       "    </tr>\n",
       "    <tr>\n",
       "      <th>3</th>\n",
       "      <td>2</td>\n",
       "      <td>Dombivali</td>\n",
       "      <td>49.00</td>\n",
       "      <td>7802</td>\n",
       "      <td>628</td>\n",
       "      <td>Under Construction</td>\n",
       "      <td>Possession by Sep 2021New</td>\n",
       "      <td>new</td>\n",
       "      <td>NaN</td>\n",
       "    </tr>\n",
       "    <tr>\n",
       "      <th>4</th>\n",
       "      <td>1</td>\n",
       "      <td>Jogeshwari West</td>\n",
       "      <td>96.00</td>\n",
       "      <td>14222</td>\n",
       "      <td>675</td>\n",
       "      <td>Under Construction</td>\n",
       "      <td>Possession by Nov 20232 BathroomsNew</td>\n",
       "      <td>new</td>\n",
       "      <td>2 bathrooms</td>\n",
       "    </tr>\n",
       "  </tbody>\n",
       "</table>\n",
       "</div>"
      ],
      "text/plain": [
       "   BHK         location  price(L) rate_persqft  area_insqft  \\\n",
       "0    1           Panvel     18.49        7034           263   \n",
       "1    1        Dombivali     40.00       11869           337   \n",
       "2    2   Koper Khairane    149.00       22513           664   \n",
       "3    2        Dombivali     49.00        7802           628   \n",
       "4    1  Jogeshwari West     96.00       14222           675   \n",
       "\n",
       "  construction_status                           type_of_sale Sale_type  \\\n",
       "0  Under Construction             Possession by Mar 2024New        new   \n",
       "1  Under Construction             Possession by Nov 2023New        new   \n",
       "2  Under Construction             Possession by Feb 2023New        new   \n",
       "3  Under Construction             Possession by Sep 2021New        new   \n",
       "4  Under Construction  Possession by Nov 20232 BathroomsNew        new   \n",
       "\n",
       "      Bathroom  \n",
       "0          NaN  \n",
       "1          NaN  \n",
       "2          NaN  \n",
       "3          NaN  \n",
       "4  2 bathrooms  "
      ]
     },
     "execution_count": 2,
     "metadata": {},
     "output_type": "execute_result"
    }
   ],
   "source": [
    "# Load the dataset\n",
    "\n",
    "df=pd.read_csv('house_scrape.csv')\n",
    "df.head(5)"
   ]
  },
  {
   "cell_type": "code",
   "execution_count": 3,
   "metadata": {},
   "outputs": [],
   "source": [
    "df = df.drop(['type_of_sale'], axis = 1) "
   ]
  },
  {
   "cell_type": "code",
   "execution_count": 4,
   "metadata": {},
   "outputs": [
    {
     "data": {
      "text/plain": [
       "(131120, 8)"
      ]
     },
     "execution_count": 4,
     "metadata": {},
     "output_type": "execute_result"
    }
   ],
   "source": [
    "df.shape"
   ]
  },
  {
   "cell_type": "code",
   "execution_count": 5,
   "metadata": {},
   "outputs": [
    {
     "data": {
      "text/html": [
       "<div>\n",
       "<style scoped>\n",
       "    .dataframe tbody tr th:only-of-type {\n",
       "        vertical-align: middle;\n",
       "    }\n",
       "\n",
       "    .dataframe tbody tr th {\n",
       "        vertical-align: top;\n",
       "    }\n",
       "\n",
       "    .dataframe thead th {\n",
       "        text-align: right;\n",
       "    }\n",
       "</style>\n",
       "<table border=\"1\" class=\"dataframe\">\n",
       "  <thead>\n",
       "    <tr style=\"text-align: right;\">\n",
       "      <th></th>\n",
       "      <th>BHK</th>\n",
       "      <th>location</th>\n",
       "      <th>price(L)</th>\n",
       "      <th>rate_persqft</th>\n",
       "      <th>area_insqft</th>\n",
       "      <th>construction_status</th>\n",
       "      <th>Sale_type</th>\n",
       "      <th>Bathroom</th>\n",
       "    </tr>\n",
       "  </thead>\n",
       "  <tbody>\n",
       "    <tr>\n",
       "      <th>34</th>\n",
       "      <td>1</td>\n",
       "      <td>Dombivali</td>\n",
       "      <td>40.0</td>\n",
       "      <td>11869</td>\n",
       "      <td>337</td>\n",
       "      <td>Under Construction</td>\n",
       "      <td>new</td>\n",
       "      <td>NaN</td>\n",
       "    </tr>\n",
       "    <tr>\n",
       "      <th>62</th>\n",
       "      <td>1</td>\n",
       "      <td>Vangani</td>\n",
       "      <td>15.8</td>\n",
       "      <td>4000</td>\n",
       "      <td>395</td>\n",
       "      <td>Under Construction</td>\n",
       "      <td>new</td>\n",
       "      <td>NaN</td>\n",
       "    </tr>\n",
       "    <tr>\n",
       "      <th>111</th>\n",
       "      <td>2</td>\n",
       "      <td>Koper Khairane</td>\n",
       "      <td>153.0</td>\n",
       "      <td>21739</td>\n",
       "      <td>704</td>\n",
       "      <td>Under Construction</td>\n",
       "      <td>new</td>\n",
       "      <td>NaN</td>\n",
       "    </tr>\n",
       "    <tr>\n",
       "      <th>112</th>\n",
       "      <td>2</td>\n",
       "      <td>Dombivali</td>\n",
       "      <td>49.0</td>\n",
       "      <td>7802</td>\n",
       "      <td>628</td>\n",
       "      <td>Under Construction</td>\n",
       "      <td>new</td>\n",
       "      <td>NaN</td>\n",
       "    </tr>\n",
       "    <tr>\n",
       "      <th>114</th>\n",
       "      <td>1</td>\n",
       "      <td>Dombivali</td>\n",
       "      <td>39.0</td>\n",
       "      <td>7991</td>\n",
       "      <td>488</td>\n",
       "      <td>Under Construction</td>\n",
       "      <td>new</td>\n",
       "      <td>NaN</td>\n",
       "    </tr>\n",
       "    <tr>\n",
       "      <th>...</th>\n",
       "      <td>...</td>\n",
       "      <td>...</td>\n",
       "      <td>...</td>\n",
       "      <td>...</td>\n",
       "      <td>...</td>\n",
       "      <td>...</td>\n",
       "      <td>...</td>\n",
       "      <td>...</td>\n",
       "    </tr>\n",
       "    <tr>\n",
       "      <th>131107</th>\n",
       "      <td>2</td>\n",
       "      <td>Kanjurmarg</td>\n",
       "      <td>171.0</td>\n",
       "      <td>25279</td>\n",
       "      <td>677</td>\n",
       "      <td>Ready to move</td>\n",
       "      <td>new</td>\n",
       "      <td>2 bathrooms</td>\n",
       "    </tr>\n",
       "    <tr>\n",
       "      <th>131109</th>\n",
       "      <td>2</td>\n",
       "      <td>Kanjurmarg</td>\n",
       "      <td>152.0</td>\n",
       "      <td>22723</td>\n",
       "      <td>669</td>\n",
       "      <td>Under Construction</td>\n",
       "      <td>new</td>\n",
       "      <td>NaN</td>\n",
       "    </tr>\n",
       "    <tr>\n",
       "      <th>131110</th>\n",
       "      <td>1</td>\n",
       "      <td>Kanjurmarg</td>\n",
       "      <td>104.0</td>\n",
       "      <td>22560</td>\n",
       "      <td>465</td>\n",
       "      <td>Under Construction</td>\n",
       "      <td>new</td>\n",
       "      <td>2 bathrooms</td>\n",
       "    </tr>\n",
       "    <tr>\n",
       "      <th>131111</th>\n",
       "      <td>2</td>\n",
       "      <td>Kanjurmarg</td>\n",
       "      <td>132.0</td>\n",
       "      <td>22533</td>\n",
       "      <td>590</td>\n",
       "      <td>Under Construction</td>\n",
       "      <td>new</td>\n",
       "      <td>2 bathrooms</td>\n",
       "    </tr>\n",
       "    <tr>\n",
       "      <th>131112</th>\n",
       "      <td>1</td>\n",
       "      <td>Kanjurmarg</td>\n",
       "      <td>118.0</td>\n",
       "      <td>22133</td>\n",
       "      <td>535</td>\n",
       "      <td>Under Construction</td>\n",
       "      <td>new</td>\n",
       "      <td>NaN</td>\n",
       "    </tr>\n",
       "  </tbody>\n",
       "</table>\n",
       "<p>47080 rows × 8 columns</p>\n",
       "</div>"
      ],
      "text/plain": [
       "        BHK        location  price(L) rate_persqft  area_insqft  \\\n",
       "34        1       Dombivali      40.0       11869           337   \n",
       "62        1         Vangani      15.8        4000           395   \n",
       "111       2  Koper Khairane     153.0       21739           704   \n",
       "112       2       Dombivali      49.0        7802           628   \n",
       "114       1       Dombivali      39.0        7991           488   \n",
       "...     ...             ...       ...          ...          ...   \n",
       "131107    2      Kanjurmarg     171.0        25279          677   \n",
       "131109    2      Kanjurmarg     152.0        22723          669   \n",
       "131110    1      Kanjurmarg     104.0        22560          465   \n",
       "131111    2      Kanjurmarg     132.0        22533          590   \n",
       "131112    1      Kanjurmarg     118.0        22133          535   \n",
       "\n",
       "       construction_status Sale_type     Bathroom  \n",
       "34      Under Construction       new          NaN  \n",
       "62      Under Construction       new          NaN  \n",
       "111     Under Construction       new          NaN  \n",
       "112     Under Construction       new          NaN  \n",
       "114     Under Construction       new          NaN  \n",
       "...                    ...       ...          ...  \n",
       "131107       Ready to move       new  2 bathrooms  \n",
       "131109  Under Construction       new          NaN  \n",
       "131110  Under Construction       new  2 bathrooms  \n",
       "131111  Under Construction       new  2 bathrooms  \n",
       "131112  Under Construction       new          NaN  \n",
       "\n",
       "[47080 rows x 8 columns]"
      ]
     },
     "execution_count": 5,
     "metadata": {},
     "output_type": "execute_result"
    }
   ],
   "source": [
    "duplicate = df[df.duplicated()] \n",
    "duplicate"
   ]
  },
  {
   "cell_type": "code",
   "execution_count": 6,
   "metadata": {},
   "outputs": [],
   "source": [
    "# Drops the duplicate entires in the dataset.\n",
    "\n",
    "df=df.drop_duplicates()"
   ]
  },
  {
   "cell_type": "code",
   "execution_count": 7,
   "metadata": {},
   "outputs": [
    {
     "data": {
      "text/html": [
       "<div>\n",
       "<style scoped>\n",
       "    .dataframe tbody tr th:only-of-type {\n",
       "        vertical-align: middle;\n",
       "    }\n",
       "\n",
       "    .dataframe tbody tr th {\n",
       "        vertical-align: top;\n",
       "    }\n",
       "\n",
       "    .dataframe thead th {\n",
       "        text-align: right;\n",
       "    }\n",
       "</style>\n",
       "<table border=\"1\" class=\"dataframe\">\n",
       "  <thead>\n",
       "    <tr style=\"text-align: right;\">\n",
       "      <th></th>\n",
       "      <th>index</th>\n",
       "      <th>BHK</th>\n",
       "      <th>location</th>\n",
       "      <th>price(L)</th>\n",
       "      <th>rate_persqft</th>\n",
       "      <th>area_insqft</th>\n",
       "      <th>construction_status</th>\n",
       "      <th>Sale_type</th>\n",
       "      <th>Bathroom</th>\n",
       "    </tr>\n",
       "  </thead>\n",
       "  <tbody>\n",
       "    <tr>\n",
       "      <th>0</th>\n",
       "      <td>0</td>\n",
       "      <td>1</td>\n",
       "      <td>Panvel</td>\n",
       "      <td>18.49</td>\n",
       "      <td>7034</td>\n",
       "      <td>263</td>\n",
       "      <td>Under Construction</td>\n",
       "      <td>new</td>\n",
       "      <td>NaN</td>\n",
       "    </tr>\n",
       "    <tr>\n",
       "      <th>1</th>\n",
       "      <td>1</td>\n",
       "      <td>1</td>\n",
       "      <td>Dombivali</td>\n",
       "      <td>40.00</td>\n",
       "      <td>11869</td>\n",
       "      <td>337</td>\n",
       "      <td>Under Construction</td>\n",
       "      <td>new</td>\n",
       "      <td>NaN</td>\n",
       "    </tr>\n",
       "    <tr>\n",
       "      <th>2</th>\n",
       "      <td>2</td>\n",
       "      <td>2</td>\n",
       "      <td>Koper Khairane</td>\n",
       "      <td>149.00</td>\n",
       "      <td>22513</td>\n",
       "      <td>664</td>\n",
       "      <td>Under Construction</td>\n",
       "      <td>new</td>\n",
       "      <td>NaN</td>\n",
       "    </tr>\n",
       "    <tr>\n",
       "      <th>3</th>\n",
       "      <td>3</td>\n",
       "      <td>2</td>\n",
       "      <td>Dombivali</td>\n",
       "      <td>49.00</td>\n",
       "      <td>7802</td>\n",
       "      <td>628</td>\n",
       "      <td>Under Construction</td>\n",
       "      <td>new</td>\n",
       "      <td>NaN</td>\n",
       "    </tr>\n",
       "    <tr>\n",
       "      <th>4</th>\n",
       "      <td>4</td>\n",
       "      <td>1</td>\n",
       "      <td>Jogeshwari West</td>\n",
       "      <td>96.00</td>\n",
       "      <td>14222</td>\n",
       "      <td>675</td>\n",
       "      <td>Under Construction</td>\n",
       "      <td>new</td>\n",
       "      <td>2 bathrooms</td>\n",
       "    </tr>\n",
       "  </tbody>\n",
       "</table>\n",
       "</div>"
      ],
      "text/plain": [
       "   index  BHK         location  price(L) rate_persqft  area_insqft  \\\n",
       "0      0    1           Panvel     18.49        7034           263   \n",
       "1      1    1        Dombivali     40.00       11869           337   \n",
       "2      2    2   Koper Khairane    149.00       22513           664   \n",
       "3      3    2        Dombivali     49.00        7802           628   \n",
       "4      4    1  Jogeshwari West     96.00       14222           675   \n",
       "\n",
       "  construction_status Sale_type     Bathroom  \n",
       "0  Under Construction       new          NaN  \n",
       "1  Under Construction       new          NaN  \n",
       "2  Under Construction       new          NaN  \n",
       "3  Under Construction       new          NaN  \n",
       "4  Under Construction       new  2 bathrooms  "
      ]
     },
     "execution_count": 7,
     "metadata": {},
     "output_type": "execute_result"
    }
   ],
   "source": [
    "# As number of rows would vary we need to reset index.\n",
    "\n",
    "df=df.reset_index()\n",
    "df.head()"
   ]
  },
  {
   "cell_type": "code",
   "execution_count": 8,
   "metadata": {},
   "outputs": [
    {
     "data": {
      "text/html": [
       "<div>\n",
       "<style scoped>\n",
       "    .dataframe tbody tr th:only-of-type {\n",
       "        vertical-align: middle;\n",
       "    }\n",
       "\n",
       "    .dataframe tbody tr th {\n",
       "        vertical-align: top;\n",
       "    }\n",
       "\n",
       "    .dataframe thead th {\n",
       "        text-align: right;\n",
       "    }\n",
       "</style>\n",
       "<table border=\"1\" class=\"dataframe\">\n",
       "  <thead>\n",
       "    <tr style=\"text-align: right;\">\n",
       "      <th></th>\n",
       "      <th>BHK</th>\n",
       "      <th>location</th>\n",
       "      <th>price(L)</th>\n",
       "      <th>rate_persqft</th>\n",
       "      <th>area_insqft</th>\n",
       "      <th>construction_status</th>\n",
       "      <th>Sale_type</th>\n",
       "      <th>Bathroom</th>\n",
       "    </tr>\n",
       "  </thead>\n",
       "  <tbody>\n",
       "    <tr>\n",
       "      <th>0</th>\n",
       "      <td>1</td>\n",
       "      <td>Panvel</td>\n",
       "      <td>18.49</td>\n",
       "      <td>7034</td>\n",
       "      <td>263</td>\n",
       "      <td>Under Construction</td>\n",
       "      <td>new</td>\n",
       "      <td>NaN</td>\n",
       "    </tr>\n",
       "    <tr>\n",
       "      <th>1</th>\n",
       "      <td>1</td>\n",
       "      <td>Dombivali</td>\n",
       "      <td>40.00</td>\n",
       "      <td>11869</td>\n",
       "      <td>337</td>\n",
       "      <td>Under Construction</td>\n",
       "      <td>new</td>\n",
       "      <td>NaN</td>\n",
       "    </tr>\n",
       "    <tr>\n",
       "      <th>2</th>\n",
       "      <td>2</td>\n",
       "      <td>Koper Khairane</td>\n",
       "      <td>149.00</td>\n",
       "      <td>22513</td>\n",
       "      <td>664</td>\n",
       "      <td>Under Construction</td>\n",
       "      <td>new</td>\n",
       "      <td>NaN</td>\n",
       "    </tr>\n",
       "    <tr>\n",
       "      <th>3</th>\n",
       "      <td>2</td>\n",
       "      <td>Dombivali</td>\n",
       "      <td>49.00</td>\n",
       "      <td>7802</td>\n",
       "      <td>628</td>\n",
       "      <td>Under Construction</td>\n",
       "      <td>new</td>\n",
       "      <td>NaN</td>\n",
       "    </tr>\n",
       "    <tr>\n",
       "      <th>4</th>\n",
       "      <td>1</td>\n",
       "      <td>Jogeshwari West</td>\n",
       "      <td>96.00</td>\n",
       "      <td>14222</td>\n",
       "      <td>675</td>\n",
       "      <td>Under Construction</td>\n",
       "      <td>new</td>\n",
       "      <td>2 bathrooms</td>\n",
       "    </tr>\n",
       "  </tbody>\n",
       "</table>\n",
       "</div>"
      ],
      "text/plain": [
       "   BHK         location  price(L) rate_persqft  area_insqft  \\\n",
       "0    1           Panvel     18.49        7034           263   \n",
       "1    1        Dombivali     40.00       11869           337   \n",
       "2    2   Koper Khairane    149.00       22513           664   \n",
       "3    2        Dombivali     49.00        7802           628   \n",
       "4    1  Jogeshwari West     96.00       14222           675   \n",
       "\n",
       "  construction_status Sale_type     Bathroom  \n",
       "0  Under Construction       new          NaN  \n",
       "1  Under Construction       new          NaN  \n",
       "2  Under Construction       new          NaN  \n",
       "3  Under Construction       new          NaN  \n",
       "4  Under Construction       new  2 bathrooms  "
      ]
     },
     "execution_count": 8,
     "metadata": {},
     "output_type": "execute_result"
    }
   ],
   "source": [
    "# Dropping unnecessary columns in dataset.\n",
    "\n",
    "df=df.drop(labels='index',axis=1)\n",
    "df.head()\n"
   ]
  },
  {
   "cell_type": "markdown",
   "metadata": {},
   "source": [
    "# Exploratory Data Analysis"
   ]
  },
  {
   "cell_type": "code",
   "execution_count": 9,
   "metadata": {},
   "outputs": [
    {
     "data": {
      "text/plain": [
       "(84040, 8)"
      ]
     },
     "execution_count": 9,
     "metadata": {},
     "output_type": "execute_result"
    }
   ],
   "source": [
    "df.shape"
   ]
  },
  {
   "cell_type": "code",
   "execution_count": 10,
   "metadata": {},
   "outputs": [
    {
     "name": "stdout",
     "output_type": "stream",
     "text": [
      "<class 'pandas.core.frame.DataFrame'>\n",
      "RangeIndex: 84040 entries, 0 to 84039\n",
      "Data columns (total 8 columns):\n",
      " #   Column               Non-Null Count  Dtype  \n",
      "---  ------               --------------  -----  \n",
      " 0   BHK                  84040 non-null  int64  \n",
      " 1   location             84040 non-null  object \n",
      " 2   price(L)             84040 non-null  float64\n",
      " 3   rate_persqft         84040 non-null  object \n",
      " 4   area_insqft          84040 non-null  int64  \n",
      " 5   construction_status  84040 non-null  object \n",
      " 6   Sale_type            51033 non-null  object \n",
      " 7   Bathroom             75088 non-null  object \n",
      "dtypes: float64(1), int64(2), object(5)\n",
      "memory usage: 5.1+ MB\n"
     ]
    }
   ],
   "source": [
    "df.info()\n",
    "\n",
    "#we have 3 numeric variables and 5 categorical variables\n",
    "#we have column price in lakhs"
   ]
  },
  {
   "cell_type": "code",
   "execution_count": 11,
   "metadata": {},
   "outputs": [
    {
     "data": {
      "text/html": [
       "<div>\n",
       "<style scoped>\n",
       "    .dataframe tbody tr th:only-of-type {\n",
       "        vertical-align: middle;\n",
       "    }\n",
       "\n",
       "    .dataframe tbody tr th {\n",
       "        vertical-align: top;\n",
       "    }\n",
       "\n",
       "    .dataframe thead th {\n",
       "        text-align: right;\n",
       "    }\n",
       "</style>\n",
       "<table border=\"1\" class=\"dataframe\">\n",
       "  <thead>\n",
       "    <tr style=\"text-align: right;\">\n",
       "      <th></th>\n",
       "      <th>BHK</th>\n",
       "      <th>price(L)</th>\n",
       "      <th>area_insqft</th>\n",
       "    </tr>\n",
       "  </thead>\n",
       "  <tbody>\n",
       "    <tr>\n",
       "      <th>count</th>\n",
       "      <td>84040.000000</td>\n",
       "      <td>84040.000000</td>\n",
       "      <td>84040.000000</td>\n",
       "    </tr>\n",
       "    <tr>\n",
       "      <th>mean</th>\n",
       "      <td>1.841171</td>\n",
       "      <td>150.937717</td>\n",
       "      <td>952.594871</td>\n",
       "    </tr>\n",
       "    <tr>\n",
       "      <th>std</th>\n",
       "      <td>0.877062</td>\n",
       "      <td>253.161649</td>\n",
       "      <td>613.250161</td>\n",
       "    </tr>\n",
       "    <tr>\n",
       "      <th>min</th>\n",
       "      <td>1.000000</td>\n",
       "      <td>1.400000</td>\n",
       "      <td>30.000000</td>\n",
       "    </tr>\n",
       "    <tr>\n",
       "      <th>25%</th>\n",
       "      <td>1.000000</td>\n",
       "      <td>44.100000</td>\n",
       "      <td>600.000000</td>\n",
       "    </tr>\n",
       "    <tr>\n",
       "      <th>50%</th>\n",
       "      <td>2.000000</td>\n",
       "      <td>85.000000</td>\n",
       "      <td>800.000000</td>\n",
       "    </tr>\n",
       "    <tr>\n",
       "      <th>75%</th>\n",
       "      <td>2.000000</td>\n",
       "      <td>166.000000</td>\n",
       "      <td>1102.000000</td>\n",
       "    </tr>\n",
       "    <tr>\n",
       "      <th>max</th>\n",
       "      <td>9.000000</td>\n",
       "      <td>9900.000000</td>\n",
       "      <td>15000.000000</td>\n",
       "    </tr>\n",
       "  </tbody>\n",
       "</table>\n",
       "</div>"
      ],
      "text/plain": [
       "                BHK      price(L)   area_insqft\n",
       "count  84040.000000  84040.000000  84040.000000\n",
       "mean       1.841171    150.937717    952.594871\n",
       "std        0.877062    253.161649    613.250161\n",
       "min        1.000000      1.400000     30.000000\n",
       "25%        1.000000     44.100000    600.000000\n",
       "50%        2.000000     85.000000    800.000000\n",
       "75%        2.000000    166.000000   1102.000000\n",
       "max        9.000000   9900.000000  15000.000000"
      ]
     },
     "execution_count": 11,
     "metadata": {},
     "output_type": "execute_result"
    }
   ],
   "source": [
    "df.describe()\n",
    "\n",
    "#observe 75% and max value it shows huge diff"
   ]
  },
  {
   "cell_type": "code",
   "execution_count": 12,
   "metadata": {},
   "outputs": [
    {
     "data": {
      "image/png": "[encoded data removed]",
      "text/plain": [
       "<Figure size 540x540 with 12 Axes>"
      ]
     },
     "metadata": {
      "needs_background": "light"
     },
     "output_type": "display_data"
    }
   ],
   "source": [
    "sns.pairplot(df)\n",
    "plt.show()\n",
    "\n",
    "# area_insqft and price(L) have slightly linear correlation with some outliers"
   ]
  },
  {
   "cell_type": "code",
   "execution_count": 13,
   "metadata": {},
   "outputs": [],
   "source": [
    "# value count of each feature\n",
    "def value_count(df):\n",
    "  for var in df.columns:\n",
    "    print(df[var].value_counts())\n",
    "    print(\"--------------------------------\")"
   ]
  },
  {
   "cell_type": "code",
   "execution_count": 14,
   "metadata": {},
   "outputs": [
    {
     "name": "stdout",
     "output_type": "stream",
     "text": [
      "1    34598\n",
      "2    32489\n",
      "3    13527\n",
      "4     2777\n",
      "5      476\n",
      "6      141\n",
      "7       18\n",
      "8       11\n",
      "9        3\n",
      "Name: BHK, dtype: int64\n",
      "--------------------------------\n",
      "Thane West           6749\n",
      "Mira Road East       5843\n",
      "Kharghar             2857\n",
      "Kandivali East       2470\n",
      "Ulwe                 2396\n",
      "                     ... \n",
      "Sector 29 Vashi         1\n",
      "Near Khopat             1\n",
      "Vishveshwar Nagar       1\n",
      "Grant Road Area         1\n",
      "Penkarpada Road         1\n",
      "Name: location, Length: 1244, dtype: int64\n",
      "--------------------------------\n",
      "85.00     994\n",
      "75.00     943\n",
      "110.00    927\n",
      "90.00     913\n",
      "95.00     875\n",
      "         ... \n",
      "90.67       1\n",
      "7.49        1\n",
      "674.00      1\n",
      "32.83       1\n",
      "31.80       1\n",
      "Name: price(L), Length: 6161, dtype: int64\n",
      "--------------------------------\n",
      "10000     231\n",
      "10000     222\n",
      "20000     210\n",
      "5000      206\n",
      "25000     185\n",
      "         ... \n",
      "22260       1\n",
      "16011       1\n",
      "27080       1\n",
      "27081       1\n",
      "22848       1\n",
      "Name: rate_persqft, Length: 30314, dtype: int64\n",
      "--------------------------------\n",
      "650     2114\n",
      "600     1490\n",
      "1000    1277\n",
      "1050    1264\n",
      "550     1213\n",
      "        ... \n",
      "2522       1\n",
      "219        1\n",
      "2074       1\n",
      "1754       1\n",
      "192        1\n",
      "Name: area_insqft, Length: 2647, dtype: int64\n",
      "--------------------------------\n",
      "Ready to move         55952\n",
      "Under Construction    28088\n",
      "Name: construction_status, dtype: int64\n",
      "--------------------------------\n",
      "new       26916\n",
      "resale    24117\n",
      "Name: Sale_type, dtype: int64\n",
      "--------------------------------\n",
      "2 bathrooms    39432\n",
      "1 bathrooms    21358\n",
      "3 bathrooms    10962\n",
      "4 bathrooms     2401\n",
      "5 bathrooms      663\n",
      "6 bathrooms      217\n",
      "7 bathrooms       31\n",
      "8 bathrooms       16\n",
      "9 bathrooms        8\n",
      "Name: Bathroom, dtype: int64\n",
      "--------------------------------\n"
     ]
    }
   ],
   "source": [
    "value_count(df)"
   ]
  },
  {
   "cell_type": "code",
   "execution_count": 15,
   "metadata": {},
   "outputs": [
    {
     "data": {
      "image/png": "[encoded data removed]",
      "text/plain": [
       "<Figure size 432x288 with 2 Axes>"
      ]
     },
     "metadata": {
      "needs_background": "light"
     },
     "output_type": "display_data"
    }
   ],
   "source": [
    "# correlation heatmap\n",
    "\n",
    "sns.heatmap(df.corr(),cmap=\"coolwarm\", annot=True)\n",
    "plt.show()\n",
    "\n"
   ]
  },
  {
   "cell_type": "markdown",
   "metadata": {},
   "source": [
    "# Preare Data for Machine Learning Model"
   ]
  },
  {
   "cell_type": "markdown",
   "metadata": {},
   "source": [
    "# Data Cleaning"
   ]
  },
  {
   "cell_type": "code",
   "execution_count": 16,
   "metadata": {},
   "outputs": [
    {
     "data": {
      "text/plain": [
       "BHK                        0\n",
       "location                   0\n",
       "price(L)                   0\n",
       "rate_persqft               0\n",
       "area_insqft                0\n",
       "construction_status        0\n",
       "Sale_type              33007\n",
       "Bathroom                8952\n",
       "dtype: int64"
      ]
     },
     "execution_count": 16,
     "metadata": {},
     "output_type": "execute_result"
    }
   ],
   "source": [
    "df.isnull().sum() # find the homuch missing data available"
   ]
  },
  {
   "cell_type": "code",
   "execution_count": 17,
   "metadata": {},
   "outputs": [
    {
     "data": {
      "text/plain": [
       "BHK                     0.000000\n",
       "location                0.000000\n",
       "price(L)                0.000000\n",
       "rate_persqft            0.000000\n",
       "area_insqft             0.000000\n",
       "construction_status     0.000000\n",
       "Sale_type              39.275345\n",
       "Bathroom               10.652070\n",
       "dtype: float64"
      ]
     },
     "execution_count": 17,
     "metadata": {},
     "output_type": "execute_result"
    }
   ],
   "source": [
    "df.isnull().mean()*100 # % of measing value"
   ]
  },
  {
   "cell_type": "code",
   "execution_count": 18,
   "metadata": {},
   "outputs": [
    {
     "data": {
      "text/plain": [
       "<AxesSubplot:>"
      ]
     },
     "execution_count": 18,
     "metadata": {},
     "output_type": "execute_result"
    },
    {
     "data": {
      "image/png": "[encoded data removed]",
      "text/plain": [
       "<Figure size 1152x648 with 2 Axes>"
      ]
     },
     "metadata": {
      "needs_background": "light"
     },
     "output_type": "display_data"
    }
   ],
   "source": [
    "# visualize missing value using heatmap to get idea where is the value missing\n",
    "\n",
    "plt.figure(figsize=(16,9))\n",
    "sns.heatmap(df.isnull())"
   ]
  },
  {
   "cell_type": "markdown",
   "metadata": {},
   "source": [
    "# Handling the null values of sale_type"
   ]
  },
  {
   "cell_type": "code",
   "execution_count": 19,
   "metadata": {},
   "outputs": [
    {
     "data": {
      "text/html": [
       "<div>\n",
       "<style scoped>\n",
       "    .dataframe tbody tr th:only-of-type {\n",
       "        vertical-align: middle;\n",
       "    }\n",
       "\n",
       "    .dataframe tbody tr th {\n",
       "        vertical-align: top;\n",
       "    }\n",
       "\n",
       "    .dataframe thead th {\n",
       "        text-align: right;\n",
       "    }\n",
       "</style>\n",
       "<table border=\"1\" class=\"dataframe\">\n",
       "  <thead>\n",
       "    <tr style=\"text-align: right;\">\n",
       "      <th></th>\n",
       "      <th>BHK</th>\n",
       "      <th>location</th>\n",
       "      <th>price(L)</th>\n",
       "      <th>rate_persqft</th>\n",
       "      <th>area_insqft</th>\n",
       "      <th>construction_status</th>\n",
       "      <th>Sale_type</th>\n",
       "      <th>Bathroom</th>\n",
       "    </tr>\n",
       "  </thead>\n",
       "  <tbody>\n",
       "    <tr>\n",
       "      <th>0</th>\n",
       "      <td>1</td>\n",
       "      <td>Panvel</td>\n",
       "      <td>18.49</td>\n",
       "      <td>7034</td>\n",
       "      <td>263</td>\n",
       "      <td>Under Construction</td>\n",
       "      <td>new</td>\n",
       "      <td>NaN</td>\n",
       "    </tr>\n",
       "    <tr>\n",
       "      <th>1</th>\n",
       "      <td>1</td>\n",
       "      <td>Dombivali</td>\n",
       "      <td>40.00</td>\n",
       "      <td>11869</td>\n",
       "      <td>337</td>\n",
       "      <td>Under Construction</td>\n",
       "      <td>new</td>\n",
       "      <td>NaN</td>\n",
       "    </tr>\n",
       "    <tr>\n",
       "      <th>2</th>\n",
       "      <td>2</td>\n",
       "      <td>Koper Khairane</td>\n",
       "      <td>149.00</td>\n",
       "      <td>22513</td>\n",
       "      <td>664</td>\n",
       "      <td>Under Construction</td>\n",
       "      <td>new</td>\n",
       "      <td>NaN</td>\n",
       "    </tr>\n",
       "    <tr>\n",
       "      <th>3</th>\n",
       "      <td>2</td>\n",
       "      <td>Dombivali</td>\n",
       "      <td>49.00</td>\n",
       "      <td>7802</td>\n",
       "      <td>628</td>\n",
       "      <td>Under Construction</td>\n",
       "      <td>new</td>\n",
       "      <td>NaN</td>\n",
       "    </tr>\n",
       "    <tr>\n",
       "      <th>4</th>\n",
       "      <td>1</td>\n",
       "      <td>Jogeshwari West</td>\n",
       "      <td>96.00</td>\n",
       "      <td>14222</td>\n",
       "      <td>675</td>\n",
       "      <td>Under Construction</td>\n",
       "      <td>new</td>\n",
       "      <td>2 bathrooms</td>\n",
       "    </tr>\n",
       "    <tr>\n",
       "      <th>...</th>\n",
       "      <td>...</td>\n",
       "      <td>...</td>\n",
       "      <td>...</td>\n",
       "      <td>...</td>\n",
       "      <td>...</td>\n",
       "      <td>...</td>\n",
       "      <td>...</td>\n",
       "      <td>...</td>\n",
       "    </tr>\n",
       "    <tr>\n",
       "      <th>84035</th>\n",
       "      <td>1</td>\n",
       "      <td>Ghatkopar East</td>\n",
       "      <td>45.00</td>\n",
       "      <td>15000</td>\n",
       "      <td>300</td>\n",
       "      <td>Ready to move</td>\n",
       "      <td>resale</td>\n",
       "      <td>1 bathrooms</td>\n",
       "    </tr>\n",
       "    <tr>\n",
       "      <th>84036</th>\n",
       "      <td>1</td>\n",
       "      <td>Ghatkopar</td>\n",
       "      <td>80.00</td>\n",
       "      <td>14545</td>\n",
       "      <td>550</td>\n",
       "      <td>Ready to move</td>\n",
       "      <td>resale</td>\n",
       "      <td>1 bathrooms</td>\n",
       "    </tr>\n",
       "    <tr>\n",
       "      <th>84037</th>\n",
       "      <td>2</td>\n",
       "      <td>Ghatkopar</td>\n",
       "      <td>170.00</td>\n",
       "      <td>25185</td>\n",
       "      <td>675</td>\n",
       "      <td>Ready to move</td>\n",
       "      <td>resale</td>\n",
       "      <td>2 bathrooms</td>\n",
       "    </tr>\n",
       "    <tr>\n",
       "      <th>84038</th>\n",
       "      <td>2</td>\n",
       "      <td>Ghatkopar</td>\n",
       "      <td>17.00</td>\n",
       "      <td>1789</td>\n",
       "      <td>950</td>\n",
       "      <td>Ready to move</td>\n",
       "      <td>resale</td>\n",
       "      <td>2 bathrooms</td>\n",
       "    </tr>\n",
       "    <tr>\n",
       "      <th>84039</th>\n",
       "      <td>1</td>\n",
       "      <td>Vile Parle</td>\n",
       "      <td>95.00</td>\n",
       "      <td>35185</td>\n",
       "      <td>270</td>\n",
       "      <td>Ready to move</td>\n",
       "      <td>resale</td>\n",
       "      <td>1 bathrooms</td>\n",
       "    </tr>\n",
       "  </tbody>\n",
       "</table>\n",
       "<p>84040 rows × 8 columns</p>\n",
       "</div>"
      ],
      "text/plain": [
       "       BHK         location  price(L) rate_persqft  area_insqft  \\\n",
       "0        1           Panvel     18.49        7034           263   \n",
       "1        1        Dombivali     40.00       11869           337   \n",
       "2        2   Koper Khairane    149.00       22513           664   \n",
       "3        2        Dombivali     49.00        7802           628   \n",
       "4        1  Jogeshwari West     96.00       14222           675   \n",
       "...    ...              ...       ...          ...          ...   \n",
       "84035    1   Ghatkopar East     45.00        15000          300   \n",
       "84036    1        Ghatkopar     80.00        14545          550   \n",
       "84037    2        Ghatkopar    170.00        25185          675   \n",
       "84038    2        Ghatkopar     17.00         1789          950   \n",
       "84039    1       Vile Parle     95.00        35185          270   \n",
       "\n",
       "      construction_status Sale_type     Bathroom  \n",
       "0      Under Construction       new          NaN  \n",
       "1      Under Construction       new          NaN  \n",
       "2      Under Construction       new          NaN  \n",
       "3      Under Construction       new          NaN  \n",
       "4      Under Construction       new  2 bathrooms  \n",
       "...                   ...       ...          ...  \n",
       "84035       Ready to move    resale  1 bathrooms  \n",
       "84036       Ready to move    resale  1 bathrooms  \n",
       "84037       Ready to move    resale  2 bathrooms  \n",
       "84038       Ready to move    resale  2 bathrooms  \n",
       "84039       Ready to move    resale  1 bathrooms  \n",
       "\n",
       "[84040 rows x 8 columns]"
      ]
     },
     "execution_count": 19,
     "metadata": {},
     "output_type": "execute_result"
    }
   ],
   "source": [
    "df.loc[df['construction_status'] == 'Under Construction', 'Sale_type'] = 'new'\n",
    "df\n",
    "\n",
    "#so here we can replace the null values for sale_type with help of construnction_status column we can replace 'new' in sale_type where status is 'Under Construntion'."
   ]
  },
  {
   "cell_type": "code",
   "execution_count": 20,
   "metadata": {},
   "outputs": [
    {
     "data": {
      "text/plain": [
       "0           new\n",
       "1           new\n",
       "2           new\n",
       "3           new\n",
       "4           new\n",
       "          ...  \n",
       "84035    resale\n",
       "84036    resale\n",
       "84037    resale\n",
       "84038    resale\n",
       "84039    resale\n",
       "Name: Sale_type, Length: 84040, dtype: object"
      ]
     },
     "execution_count": 20,
     "metadata": {},
     "output_type": "execute_result"
    }
   ],
   "source": [
    "df1 = df['Sale_type']\n",
    "df1"
   ]
  },
  {
   "cell_type": "code",
   "execution_count": 21,
   "metadata": {},
   "outputs": [
    {
     "data": {
      "text/html": [
       "<div>\n",
       "<style scoped>\n",
       "    .dataframe tbody tr th:only-of-type {\n",
       "        vertical-align: middle;\n",
       "    }\n",
       "\n",
       "    .dataframe tbody tr th {\n",
       "        vertical-align: top;\n",
       "    }\n",
       "\n",
       "    .dataframe thead th {\n",
       "        text-align: right;\n",
       "    }\n",
       "</style>\n",
       "<table border=\"1\" class=\"dataframe\">\n",
       "  <thead>\n",
       "    <tr style=\"text-align: right;\">\n",
       "      <th></th>\n",
       "      <th>BHK</th>\n",
       "      <th>location</th>\n",
       "      <th>price(L)</th>\n",
       "      <th>rate_persqft</th>\n",
       "      <th>area_insqft</th>\n",
       "      <th>construction_status</th>\n",
       "      <th>Bathroom</th>\n",
       "    </tr>\n",
       "  </thead>\n",
       "  <tbody>\n",
       "    <tr>\n",
       "      <th>0</th>\n",
       "      <td>1</td>\n",
       "      <td>Panvel</td>\n",
       "      <td>18.49</td>\n",
       "      <td>7034</td>\n",
       "      <td>263</td>\n",
       "      <td>Under Construction</td>\n",
       "      <td>NaN</td>\n",
       "    </tr>\n",
       "    <tr>\n",
       "      <th>1</th>\n",
       "      <td>1</td>\n",
       "      <td>Dombivali</td>\n",
       "      <td>40.00</td>\n",
       "      <td>11869</td>\n",
       "      <td>337</td>\n",
       "      <td>Under Construction</td>\n",
       "      <td>NaN</td>\n",
       "    </tr>\n",
       "    <tr>\n",
       "      <th>2</th>\n",
       "      <td>2</td>\n",
       "      <td>Koper Khairane</td>\n",
       "      <td>149.00</td>\n",
       "      <td>22513</td>\n",
       "      <td>664</td>\n",
       "      <td>Under Construction</td>\n",
       "      <td>NaN</td>\n",
       "    </tr>\n",
       "    <tr>\n",
       "      <th>3</th>\n",
       "      <td>2</td>\n",
       "      <td>Dombivali</td>\n",
       "      <td>49.00</td>\n",
       "      <td>7802</td>\n",
       "      <td>628</td>\n",
       "      <td>Under Construction</td>\n",
       "      <td>NaN</td>\n",
       "    </tr>\n",
       "    <tr>\n",
       "      <th>4</th>\n",
       "      <td>1</td>\n",
       "      <td>Jogeshwari West</td>\n",
       "      <td>96.00</td>\n",
       "      <td>14222</td>\n",
       "      <td>675</td>\n",
       "      <td>Under Construction</td>\n",
       "      <td>2 bathrooms</td>\n",
       "    </tr>\n",
       "  </tbody>\n",
       "</table>\n",
       "</div>"
      ],
      "text/plain": [
       "   BHK         location  price(L) rate_persqft  area_insqft  \\\n",
       "0    1           Panvel     18.49        7034           263   \n",
       "1    1        Dombivali     40.00       11869           337   \n",
       "2    2   Koper Khairane    149.00       22513           664   \n",
       "3    2        Dombivali     49.00        7802           628   \n",
       "4    1  Jogeshwari West     96.00       14222           675   \n",
       "\n",
       "  construction_status     Bathroom  \n",
       "0  Under Construction          NaN  \n",
       "1  Under Construction          NaN  \n",
       "2  Under Construction          NaN  \n",
       "3  Under Construction          NaN  \n",
       "4  Under Construction  2 bathrooms  "
      ]
     },
     "execution_count": 21,
     "metadata": {},
     "output_type": "execute_result"
    }
   ],
   "source": [
    "df = df.drop(['Sale_type'],axis = 1)\n",
    "df.head()\n",
    "\n",
    "#we can drop the Sale_type as we will concatenate it in df. "
   ]
  },
  {
   "cell_type": "code",
   "execution_count": 22,
   "metadata": {},
   "outputs": [
    {
     "data": {
      "text/plain": [
       "0"
      ]
     },
     "execution_count": 22,
     "metadata": {},
     "output_type": "execute_result"
    }
   ],
   "source": [
    "df1 = df1.fillna(method='ffill')\n",
    "df1.isnull().sum()\n",
    "\n",
    "#to handle rest of the null values in Sale_type we used ffill() method "
   ]
  },
  {
   "cell_type": "code",
   "execution_count": 23,
   "metadata": {},
   "outputs": [
    {
     "data": {
      "text/html": [
       "<div>\n",
       "<style scoped>\n",
       "    .dataframe tbody tr th:only-of-type {\n",
       "        vertical-align: middle;\n",
       "    }\n",
       "\n",
       "    .dataframe tbody tr th {\n",
       "        vertical-align: top;\n",
       "    }\n",
       "\n",
       "    .dataframe thead th {\n",
       "        text-align: right;\n",
       "    }\n",
       "</style>\n",
       "<table border=\"1\" class=\"dataframe\">\n",
       "  <thead>\n",
       "    <tr style=\"text-align: right;\">\n",
       "      <th></th>\n",
       "      <th>BHK</th>\n",
       "      <th>location</th>\n",
       "      <th>price(L)</th>\n",
       "      <th>rate_persqft</th>\n",
       "      <th>area_insqft</th>\n",
       "      <th>construction_status</th>\n",
       "      <th>Bathroom</th>\n",
       "      <th>Sale_type</th>\n",
       "    </tr>\n",
       "  </thead>\n",
       "  <tbody>\n",
       "    <tr>\n",
       "      <th>0</th>\n",
       "      <td>1</td>\n",
       "      <td>Panvel</td>\n",
       "      <td>18.49</td>\n",
       "      <td>7034</td>\n",
       "      <td>263</td>\n",
       "      <td>Under Construction</td>\n",
       "      <td>NaN</td>\n",
       "      <td>new</td>\n",
       "    </tr>\n",
       "    <tr>\n",
       "      <th>1</th>\n",
       "      <td>1</td>\n",
       "      <td>Dombivali</td>\n",
       "      <td>40.00</td>\n",
       "      <td>11869</td>\n",
       "      <td>337</td>\n",
       "      <td>Under Construction</td>\n",
       "      <td>NaN</td>\n",
       "      <td>new</td>\n",
       "    </tr>\n",
       "    <tr>\n",
       "      <th>2</th>\n",
       "      <td>2</td>\n",
       "      <td>Koper Khairane</td>\n",
       "      <td>149.00</td>\n",
       "      <td>22513</td>\n",
       "      <td>664</td>\n",
       "      <td>Under Construction</td>\n",
       "      <td>NaN</td>\n",
       "      <td>new</td>\n",
       "    </tr>\n",
       "    <tr>\n",
       "      <th>3</th>\n",
       "      <td>2</td>\n",
       "      <td>Dombivali</td>\n",
       "      <td>49.00</td>\n",
       "      <td>7802</td>\n",
       "      <td>628</td>\n",
       "      <td>Under Construction</td>\n",
       "      <td>NaN</td>\n",
       "      <td>new</td>\n",
       "    </tr>\n",
       "    <tr>\n",
       "      <th>4</th>\n",
       "      <td>1</td>\n",
       "      <td>Jogeshwari West</td>\n",
       "      <td>96.00</td>\n",
       "      <td>14222</td>\n",
       "      <td>675</td>\n",
       "      <td>Under Construction</td>\n",
       "      <td>2 bathrooms</td>\n",
       "      <td>new</td>\n",
       "    </tr>\n",
       "  </tbody>\n",
       "</table>\n",
       "</div>"
      ],
      "text/plain": [
       "   BHK         location  price(L) rate_persqft  area_insqft  \\\n",
       "0    1           Panvel     18.49        7034           263   \n",
       "1    1        Dombivali     40.00       11869           337   \n",
       "2    2   Koper Khairane    149.00       22513           664   \n",
       "3    2        Dombivali     49.00        7802           628   \n",
       "4    1  Jogeshwari West     96.00       14222           675   \n",
       "\n",
       "  construction_status     Bathroom Sale_type  \n",
       "0  Under Construction          NaN       new  \n",
       "1  Under Construction          NaN       new  \n",
       "2  Under Construction          NaN       new  \n",
       "3  Under Construction          NaN       new  \n",
       "4  Under Construction  2 bathrooms       new  "
      ]
     },
     "execution_count": 23,
     "metadata": {},
     "output_type": "execute_result"
    }
   ],
   "source": [
    "df = pd.concat([df, df1], axis=1)\n",
    "df.head()"
   ]
  },
  {
   "cell_type": "markdown",
   "metadata": {},
   "source": [
    "# Handling the null values of Bathroom "
   ]
  },
  {
   "cell_type": "code",
   "execution_count": 24,
   "metadata": {},
   "outputs": [],
   "source": [
    "#we need to extract the numeric value from string first\n",
    "\n",
    "df[\"Bathroom\"] = df.assign(Bathroom = lambda x: x['Bathroom'].str.extract('(\\d+)'))"
   ]
  },
  {
   "cell_type": "code",
   "execution_count": 25,
   "metadata": {},
   "outputs": [],
   "source": [
    "#lets convert the bathroom from object type to numeric\n",
    "\n",
    "df[\"Bathroom\"] = pd.to_numeric(df[\"Bathroom\"])"
   ]
  },
  {
   "cell_type": "code",
   "execution_count": 26,
   "metadata": {},
   "outputs": [
    {
     "data": {
      "text/plain": [
       "0        1\n",
       "1        1\n",
       "2        2\n",
       "3        2\n",
       "4        1\n",
       "        ..\n",
       "84035    1\n",
       "84036    1\n",
       "84037    2\n",
       "84038    2\n",
       "84039    1\n",
       "Name: Bathroom, Length: 84040, dtype: int64"
      ]
     },
     "execution_count": 26,
     "metadata": {},
     "output_type": "execute_result"
    }
   ],
   "source": [
    "df2 = df['Bathroom']\n",
    "df2"
   ]
  },
  {
   "cell_type": "code",
   "execution_count": 27,
   "metadata": {},
   "outputs": [
    {
     "data": {
      "text/html": [
       "<div>\n",
       "<style scoped>\n",
       "    .dataframe tbody tr th:only-of-type {\n",
       "        vertical-align: middle;\n",
       "    }\n",
       "\n",
       "    .dataframe tbody tr th {\n",
       "        vertical-align: top;\n",
       "    }\n",
       "\n",
       "    .dataframe thead th {\n",
       "        text-align: right;\n",
       "    }\n",
       "</style>\n",
       "<table border=\"1\" class=\"dataframe\">\n",
       "  <thead>\n",
       "    <tr style=\"text-align: right;\">\n",
       "      <th></th>\n",
       "      <th>BHK</th>\n",
       "      <th>location</th>\n",
       "      <th>price(L)</th>\n",
       "      <th>rate_persqft</th>\n",
       "      <th>area_insqft</th>\n",
       "      <th>construction_status</th>\n",
       "      <th>Sale_type</th>\n",
       "    </tr>\n",
       "  </thead>\n",
       "  <tbody>\n",
       "    <tr>\n",
       "      <th>0</th>\n",
       "      <td>1</td>\n",
       "      <td>Panvel</td>\n",
       "      <td>18.49</td>\n",
       "      <td>7034</td>\n",
       "      <td>263</td>\n",
       "      <td>Under Construction</td>\n",
       "      <td>new</td>\n",
       "    </tr>\n",
       "    <tr>\n",
       "      <th>1</th>\n",
       "      <td>1</td>\n",
       "      <td>Dombivali</td>\n",
       "      <td>40.00</td>\n",
       "      <td>11869</td>\n",
       "      <td>337</td>\n",
       "      <td>Under Construction</td>\n",
       "      <td>new</td>\n",
       "    </tr>\n",
       "    <tr>\n",
       "      <th>2</th>\n",
       "      <td>2</td>\n",
       "      <td>Koper Khairane</td>\n",
       "      <td>149.00</td>\n",
       "      <td>22513</td>\n",
       "      <td>664</td>\n",
       "      <td>Under Construction</td>\n",
       "      <td>new</td>\n",
       "    </tr>\n",
       "    <tr>\n",
       "      <th>3</th>\n",
       "      <td>2</td>\n",
       "      <td>Dombivali</td>\n",
       "      <td>49.00</td>\n",
       "      <td>7802</td>\n",
       "      <td>628</td>\n",
       "      <td>Under Construction</td>\n",
       "      <td>new</td>\n",
       "    </tr>\n",
       "    <tr>\n",
       "      <th>4</th>\n",
       "      <td>1</td>\n",
       "      <td>Jogeshwari West</td>\n",
       "      <td>96.00</td>\n",
       "      <td>14222</td>\n",
       "      <td>675</td>\n",
       "      <td>Under Construction</td>\n",
       "      <td>new</td>\n",
       "    </tr>\n",
       "  </tbody>\n",
       "</table>\n",
       "</div>"
      ],
      "text/plain": [
       "   BHK         location  price(L) rate_persqft  area_insqft  \\\n",
       "0    1           Panvel     18.49        7034           263   \n",
       "1    1        Dombivali     40.00       11869           337   \n",
       "2    2   Koper Khairane    149.00       22513           664   \n",
       "3    2        Dombivali     49.00        7802           628   \n",
       "4    1  Jogeshwari West     96.00       14222           675   \n",
       "\n",
       "  construction_status Sale_type  \n",
       "0  Under Construction       new  \n",
       "1  Under Construction       new  \n",
       "2  Under Construction       new  \n",
       "3  Under Construction       new  \n",
       "4  Under Construction       new  "
      ]
     },
     "execution_count": 27,
     "metadata": {},
     "output_type": "execute_result"
    }
   ],
   "source": [
    "df = df.drop(['Bathroom'],axis = 1)\n",
    "df.head()\n",
    "\n",
    "#we can drop the Bathroom as we will concatenate it in df. "
   ]
  },
  {
   "cell_type": "code",
   "execution_count": 28,
   "metadata": {},
   "outputs": [
    {
     "data": {
      "text/plain": [
       "0"
      ]
     },
     "execution_count": 28,
     "metadata": {},
     "output_type": "execute_result"
    }
   ],
   "source": [
    "df2 = df2.fillna(method='bfill')\n",
    "df2.isnull().sum()\n",
    "\n",
    "#to handle rest of the null values in Sale_type we used ffill() method "
   ]
  },
  {
   "cell_type": "code",
   "execution_count": 29,
   "metadata": {},
   "outputs": [
    {
     "data": {
      "text/html": [
       "<div>\n",
       "<style scoped>\n",
       "    .dataframe tbody tr th:only-of-type {\n",
       "        vertical-align: middle;\n",
       "    }\n",
       "\n",
       "    .dataframe tbody tr th {\n",
       "        vertical-align: top;\n",
       "    }\n",
       "\n",
       "    .dataframe thead th {\n",
       "        text-align: right;\n",
       "    }\n",
       "</style>\n",
       "<table border=\"1\" class=\"dataframe\">\n",
       "  <thead>\n",
       "    <tr style=\"text-align: right;\">\n",
       "      <th></th>\n",
       "      <th>BHK</th>\n",
       "      <th>location</th>\n",
       "      <th>price(L)</th>\n",
       "      <th>rate_persqft</th>\n",
       "      <th>area_insqft</th>\n",
       "      <th>construction_status</th>\n",
       "      <th>Sale_type</th>\n",
       "      <th>Bathroom</th>\n",
       "    </tr>\n",
       "  </thead>\n",
       "  <tbody>\n",
       "    <tr>\n",
       "      <th>0</th>\n",
       "      <td>1</td>\n",
       "      <td>Panvel</td>\n",
       "      <td>18.49</td>\n",
       "      <td>7034</td>\n",
       "      <td>263</td>\n",
       "      <td>Under Construction</td>\n",
       "      <td>new</td>\n",
       "      <td>1</td>\n",
       "    </tr>\n",
       "    <tr>\n",
       "      <th>1</th>\n",
       "      <td>1</td>\n",
       "      <td>Dombivali</td>\n",
       "      <td>40.00</td>\n",
       "      <td>11869</td>\n",
       "      <td>337</td>\n",
       "      <td>Under Construction</td>\n",
       "      <td>new</td>\n",
       "      <td>1</td>\n",
       "    </tr>\n",
       "    <tr>\n",
       "      <th>2</th>\n",
       "      <td>2</td>\n",
       "      <td>Koper Khairane</td>\n",
       "      <td>149.00</td>\n",
       "      <td>22513</td>\n",
       "      <td>664</td>\n",
       "      <td>Under Construction</td>\n",
       "      <td>new</td>\n",
       "      <td>2</td>\n",
       "    </tr>\n",
       "    <tr>\n",
       "      <th>3</th>\n",
       "      <td>2</td>\n",
       "      <td>Dombivali</td>\n",
       "      <td>49.00</td>\n",
       "      <td>7802</td>\n",
       "      <td>628</td>\n",
       "      <td>Under Construction</td>\n",
       "      <td>new</td>\n",
       "      <td>2</td>\n",
       "    </tr>\n",
       "    <tr>\n",
       "      <th>4</th>\n",
       "      <td>1</td>\n",
       "      <td>Jogeshwari West</td>\n",
       "      <td>96.00</td>\n",
       "      <td>14222</td>\n",
       "      <td>675</td>\n",
       "      <td>Under Construction</td>\n",
       "      <td>new</td>\n",
       "      <td>1</td>\n",
       "    </tr>\n",
       "  </tbody>\n",
       "</table>\n",
       "</div>"
      ],
      "text/plain": [
       "   BHK         location  price(L) rate_persqft  area_insqft  \\\n",
       "0    1           Panvel     18.49        7034           263   \n",
       "1    1        Dombivali     40.00       11869           337   \n",
       "2    2   Koper Khairane    149.00       22513           664   \n",
       "3    2        Dombivali     49.00        7802           628   \n",
       "4    1  Jogeshwari West     96.00       14222           675   \n",
       "\n",
       "  construction_status Sale_type  Bathroom  \n",
       "0  Under Construction       new         1  \n",
       "1  Under Construction       new         1  \n",
       "2  Under Construction       new         2  \n",
       "3  Under Construction       new         2  \n",
       "4  Under Construction       new         1  "
      ]
     },
     "execution_count": 29,
     "metadata": {},
     "output_type": "execute_result"
    }
   ],
   "source": [
    "df = pd.concat([df, df2], axis=1)\n",
    "df.head()"
   ]
  },
  {
   "cell_type": "code",
   "execution_count": 30,
   "metadata": {},
   "outputs": [
    {
     "data": {
      "text/plain": [
       "BHK                    0\n",
       "location               0\n",
       "price(L)               0\n",
       "rate_persqft           0\n",
       "area_insqft            0\n",
       "construction_status    0\n",
       "Sale_type              0\n",
       "Bathroom               0\n",
       "dtype: int64"
      ]
     },
     "execution_count": 30,
     "metadata": {},
     "output_type": "execute_result"
    }
   ],
   "source": [
    "df.isnull().sum() #check for the null values\n",
    "\n",
    "#so our data has no null values now we can proceed further now with other data preprocessing"
   ]
  },
  {
   "cell_type": "code",
   "execution_count": 31,
   "metadata": {},
   "outputs": [],
   "source": [
    "#lets convert the rate_persqft from object type to numeric\n",
    "# got error cannot convert str \"price\" at position 604 so replacing price with rate/sqft value.\n",
    "\n",
    "df[\"rate_persqft\"] = df[\"rate_persqft\"].replace(\"Price\", 8761)\n",
    "\n",
    "df[\"rate_persqft\"] = pd.to_numeric(df[\"rate_persqft\"])"
   ]
  },
  {
   "cell_type": "code",
   "execution_count": 32,
   "metadata": {},
   "outputs": [
    {
     "data": {
      "text/html": [
       "<div>\n",
       "<style scoped>\n",
       "    .dataframe tbody tr th:only-of-type {\n",
       "        vertical-align: middle;\n",
       "    }\n",
       "\n",
       "    .dataframe tbody tr th {\n",
       "        vertical-align: top;\n",
       "    }\n",
       "\n",
       "    .dataframe thead th {\n",
       "        text-align: right;\n",
       "    }\n",
       "</style>\n",
       "<table border=\"1\" class=\"dataframe\">\n",
       "  <thead>\n",
       "    <tr style=\"text-align: right;\">\n",
       "      <th></th>\n",
       "      <th>BHK</th>\n",
       "      <th>price(L)</th>\n",
       "      <th>rate_persqft</th>\n",
       "      <th>area_insqft</th>\n",
       "      <th>Bathroom</th>\n",
       "    </tr>\n",
       "  </thead>\n",
       "  <tbody>\n",
       "    <tr>\n",
       "      <th>count</th>\n",
       "      <td>84040.000000</td>\n",
       "      <td>84040.000000</td>\n",
       "      <td>84040.000000</td>\n",
       "      <td>84040.000000</td>\n",
       "      <td>84040.000000</td>\n",
       "    </tr>\n",
       "    <tr>\n",
       "      <th>mean</th>\n",
       "      <td>1.841171</td>\n",
       "      <td>150.937717</td>\n",
       "      <td>13501.078534</td>\n",
       "      <td>952.594871</td>\n",
       "      <td>1.841171</td>\n",
       "    </tr>\n",
       "    <tr>\n",
       "      <th>std</th>\n",
       "      <td>0.877062</td>\n",
       "      <td>253.161649</td>\n",
       "      <td>10397.049106</td>\n",
       "      <td>613.250161</td>\n",
       "      <td>0.877062</td>\n",
       "    </tr>\n",
       "    <tr>\n",
       "      <th>min</th>\n",
       "      <td>1.000000</td>\n",
       "      <td>1.400000</td>\n",
       "      <td>222.000000</td>\n",
       "      <td>30.000000</td>\n",
       "      <td>1.000000</td>\n",
       "    </tr>\n",
       "    <tr>\n",
       "      <th>25%</th>\n",
       "      <td>1.000000</td>\n",
       "      <td>44.100000</td>\n",
       "      <td>6388.000000</td>\n",
       "      <td>600.000000</td>\n",
       "      <td>1.000000</td>\n",
       "    </tr>\n",
       "    <tr>\n",
       "      <th>50%</th>\n",
       "      <td>2.000000</td>\n",
       "      <td>85.000000</td>\n",
       "      <td>10354.500000</td>\n",
       "      <td>800.000000</td>\n",
       "      <td>2.000000</td>\n",
       "    </tr>\n",
       "    <tr>\n",
       "      <th>75%</th>\n",
       "      <td>2.000000</td>\n",
       "      <td>166.000000</td>\n",
       "      <td>17825.250000</td>\n",
       "      <td>1102.000000</td>\n",
       "      <td>2.000000</td>\n",
       "    </tr>\n",
       "    <tr>\n",
       "      <th>max</th>\n",
       "      <td>9.000000</td>\n",
       "      <td>9900.000000</td>\n",
       "      <td>197255.000000</td>\n",
       "      <td>15000.000000</td>\n",
       "      <td>9.000000</td>\n",
       "    </tr>\n",
       "  </tbody>\n",
       "</table>\n",
       "</div>"
      ],
      "text/plain": [
       "                BHK      price(L)   rate_persqft   area_insqft      Bathroom\n",
       "count  84040.000000  84040.000000   84040.000000  84040.000000  84040.000000\n",
       "mean       1.841171    150.937717   13501.078534    952.594871      1.841171\n",
       "std        0.877062    253.161649   10397.049106    613.250161      0.877062\n",
       "min        1.000000      1.400000     222.000000     30.000000      1.000000\n",
       "25%        1.000000     44.100000    6388.000000    600.000000      1.000000\n",
       "50%        2.000000     85.000000   10354.500000    800.000000      2.000000\n",
       "75%        2.000000    166.000000   17825.250000   1102.000000      2.000000\n",
       "max        9.000000   9900.000000  197255.000000  15000.000000      9.000000"
      ]
     },
     "execution_count": 32,
     "metadata": {},
     "output_type": "execute_result"
    }
   ],
   "source": [
    "#now we can check the description of the data again\n",
    "\n",
    "df.describe() "
   ]
  },
  {
   "cell_type": "code",
   "execution_count": 33,
   "metadata": {},
   "outputs": [
    {
     "data": {
      "image/png": "[encoded data removed]",
      "text/plain": [
       "<Figure size 432x288 with 2 Axes>"
      ]
     },
     "metadata": {
      "needs_background": "light"
     },
     "output_type": "display_data"
    }
   ],
   "source": [
    "sns.heatmap(df.corr(), annot=True)\n",
    "plt.show()"
   ]
  },
  {
   "cell_type": "markdown",
   "metadata": {},
   "source": [
    "# Finding outliers and removing them"
   ]
  },
  {
   "cell_type": "code",
   "execution_count": 34,
   "metadata": {},
   "outputs": [],
   "source": [
    "# function to create histogram, Q-Q plot and boxplot\n",
    "\n",
    "# for Q-Q plots\n",
    "import scipy.stats as stats\n",
    "\n",
    "def diagnostic_plots(df, variable):\n",
    "    # function takes a dataframe (df) and\n",
    "    # the variable of interest as arguments\n",
    "\n",
    "    # define figure size\n",
    "    plt.figure(figsize=(16, 4))\n",
    "\n",
    "    # histogram\n",
    "    plt.subplot(1, 3, 1)\n",
    "    sns.distplot(df[variable], bins=30)\n",
    "    plt.title('Histogram')\n",
    "\n",
    "    # Q-Q plot\n",
    "    plt.subplot(1, 3, 2)\n",
    "    stats.probplot(df[variable], dist=\"norm\", plot=plt)\n",
    "    plt.ylabel('Variable quantiles')\n",
    "\n",
    "    # boxplot\n",
    "    plt.subplot(1, 3, 3)\n",
    "    sns.boxplot(y=df[variable])\n",
    "    plt.title('Boxplot')\n",
    "\n",
    "    plt.show()"
   ]
  },
  {
   "cell_type": "code",
   "execution_count": 35,
   "metadata": {},
   "outputs": [
    {
     "name": "stdout",
     "output_type": "stream",
     "text": [
      "******* BHK *******\n"
     ]
    },
    {
     "name": "stderr",
     "output_type": "stream",
     "text": [
      "C:\\Users\\piyus\\anaconda3\\lib\\site-packages\\seaborn\\distributions.py:2551: FutureWarning: `distplot` is a deprecated function and will be removed in a future version. Please adapt your code to use either `displot` (a figure-level function with similar flexibility) or `histplot` (an axes-level function for histograms).\n",
      "  warnings.warn(msg, FutureWarning)\n"
     ]
    },
    {
     "data": {
      "image/png": "[encoded data removed]",
      "text/plain": [
       "<Figure size 1152x288 with 3 Axes>"
      ]
     },
     "metadata": {
      "needs_background": "light"
     },
     "output_type": "display_data"
    },
    {
     "name": "stdout",
     "output_type": "stream",
     "text": [
      "******* price(L) *******\n"
     ]
    },
    {
     "name": "stderr",
     "output_type": "stream",
     "text": [
      "C:\\Users\\piyus\\anaconda3\\lib\\site-packages\\seaborn\\distributions.py:2551: FutureWarning: `distplot` is a deprecated function and will be removed in a future version. Please adapt your code to use either `displot` (a figure-level function with similar flexibility) or `histplot` (an axes-level function for histograms).\n",
      "  warnings.warn(msg, FutureWarning)\n"
     ]
    },
    {
     "data": {
      "image/png": "[encoded data removed]",
      "text/plain": [
       "<Figure size 1152x288 with 3 Axes>"
      ]
     },
     "metadata": {
      "needs_background": "light"
     },
     "output_type": "display_data"
    },
    {
     "name": "stdout",
     "output_type": "stream",
     "text": [
      "******* rate_persqft *******\n"
     ]
    },
    {
     "name": "stderr",
     "output_type": "stream",
     "text": [
      "C:\\Users\\piyus\\anaconda3\\lib\\site-packages\\seaborn\\distributions.py:2551: FutureWarning: `distplot` is a deprecated function and will be removed in a future version. Please adapt your code to use either `displot` (a figure-level function with similar flexibility) or `histplot` (an axes-level function for histograms).\n",
      "  warnings.warn(msg, FutureWarning)\n"
     ]
    },
    {
     "data": {
      "image/png": "[encoded data removed]",
      "text/plain": [
       "<Figure size 1152x288 with 3 Axes>"
      ]
     },
     "metadata": {
      "needs_background": "light"
     },
     "output_type": "display_data"
    },
    {
     "name": "stdout",
     "output_type": "stream",
     "text": [
      "******* area_insqft *******\n"
     ]
    },
    {
     "name": "stderr",
     "output_type": "stream",
     "text": [
      "C:\\Users\\piyus\\anaconda3\\lib\\site-packages\\seaborn\\distributions.py:2551: FutureWarning: `distplot` is a deprecated function and will be removed in a future version. Please adapt your code to use either `displot` (a figure-level function with similar flexibility) or `histplot` (an axes-level function for histograms).\n",
      "  warnings.warn(msg, FutureWarning)\n"
     ]
    },
    {
     "data": {
      "image/png": "[encoded data removed]",
      "text/plain": [
       "<Figure size 1152x288 with 3 Axes>"
      ]
     },
     "metadata": {
      "needs_background": "light"
     },
     "output_type": "display_data"
    },
    {
     "name": "stdout",
     "output_type": "stream",
     "text": [
      "******* Bathroom *******\n"
     ]
    },
    {
     "name": "stderr",
     "output_type": "stream",
     "text": [
      "C:\\Users\\piyus\\anaconda3\\lib\\site-packages\\seaborn\\distributions.py:2551: FutureWarning: `distplot` is a deprecated function and will be removed in a future version. Please adapt your code to use either `displot` (a figure-level function with similar flexibility) or `histplot` (an axes-level function for histograms).\n",
      "  warnings.warn(msg, FutureWarning)\n"
     ]
    },
    {
     "data": {
      "image/png": "[encoded data removed]",
      "text/plain": [
       "<Figure size 1152x288 with 3 Axes>"
      ]
     },
     "metadata": {
      "needs_background": "light"
     },
     "output_type": "display_data"
    }
   ],
   "source": [
    "num_var = [\"BHK\",\"price(L)\",\"rate_persqft\",\"area_insqft\",\"Bathroom\"]\n",
    "for var in num_var:\n",
    "  print(\"******* {} *******\".format(var))\n",
    "  diagnostic_plots(df, var)\n",
    "\n",
    "# here we observe outlier using histogram,, qq plot and boxplot \n",
    "#here we can see there are outliers in some features that we will remove to balance our dataset so other variable didnt get affected."
   ]
  },
  {
   "cell_type": "code",
   "execution_count": 36,
   "metadata": {},
   "outputs": [
    {
     "data": {
      "text/html": [
       "<div>\n",
       "<style scoped>\n",
       "    .dataframe tbody tr th:only-of-type {\n",
       "        vertical-align: middle;\n",
       "    }\n",
       "\n",
       "    .dataframe tbody tr th {\n",
       "        vertical-align: top;\n",
       "    }\n",
       "\n",
       "    .dataframe thead th {\n",
       "        text-align: right;\n",
       "    }\n",
       "</style>\n",
       "<table border=\"1\" class=\"dataframe\">\n",
       "  <thead>\n",
       "    <tr style=\"text-align: right;\">\n",
       "      <th></th>\n",
       "      <th>price(L)</th>\n",
       "      <th>rate_persqft</th>\n",
       "      <th>area_insqft</th>\n",
       "    </tr>\n",
       "  </thead>\n",
       "  <tbody>\n",
       "    <tr>\n",
       "      <th>0</th>\n",
       "      <td>18.49</td>\n",
       "      <td>7034</td>\n",
       "      <td>263</td>\n",
       "    </tr>\n",
       "    <tr>\n",
       "      <th>1</th>\n",
       "      <td>40.00</td>\n",
       "      <td>11869</td>\n",
       "      <td>337</td>\n",
       "    </tr>\n",
       "    <tr>\n",
       "      <th>2</th>\n",
       "      <td>149.00</td>\n",
       "      <td>22513</td>\n",
       "      <td>664</td>\n",
       "    </tr>\n",
       "    <tr>\n",
       "      <th>3</th>\n",
       "      <td>49.00</td>\n",
       "      <td>7802</td>\n",
       "      <td>628</td>\n",
       "    </tr>\n",
       "    <tr>\n",
       "      <th>4</th>\n",
       "      <td>96.00</td>\n",
       "      <td>14222</td>\n",
       "      <td>675</td>\n",
       "    </tr>\n",
       "    <tr>\n",
       "      <th>...</th>\n",
       "      <td>...</td>\n",
       "      <td>...</td>\n",
       "      <td>...</td>\n",
       "    </tr>\n",
       "    <tr>\n",
       "      <th>84035</th>\n",
       "      <td>45.00</td>\n",
       "      <td>15000</td>\n",
       "      <td>300</td>\n",
       "    </tr>\n",
       "    <tr>\n",
       "      <th>84036</th>\n",
       "      <td>80.00</td>\n",
       "      <td>14545</td>\n",
       "      <td>550</td>\n",
       "    </tr>\n",
       "    <tr>\n",
       "      <th>84037</th>\n",
       "      <td>170.00</td>\n",
       "      <td>25185</td>\n",
       "      <td>675</td>\n",
       "    </tr>\n",
       "    <tr>\n",
       "      <th>84038</th>\n",
       "      <td>17.00</td>\n",
       "      <td>1789</td>\n",
       "      <td>950</td>\n",
       "    </tr>\n",
       "    <tr>\n",
       "      <th>84039</th>\n",
       "      <td>95.00</td>\n",
       "      <td>35185</td>\n",
       "      <td>270</td>\n",
       "    </tr>\n",
       "  </tbody>\n",
       "</table>\n",
       "<p>84040 rows × 3 columns</p>\n",
       "</div>"
      ],
      "text/plain": [
       "       price(L)  rate_persqft  area_insqft\n",
       "0         18.49          7034          263\n",
       "1         40.00         11869          337\n",
       "2        149.00         22513          664\n",
       "3         49.00          7802          628\n",
       "4         96.00         14222          675\n",
       "...         ...           ...          ...\n",
       "84035     45.00         15000          300\n",
       "84036     80.00         14545          550\n",
       "84037    170.00         25185          675\n",
       "84038     17.00          1789          950\n",
       "84039     95.00         35185          270\n",
       "\n",
       "[84040 rows x 3 columns]"
      ]
     },
     "execution_count": 36,
     "metadata": {},
     "output_type": "execute_result"
    }
   ],
   "source": [
    "df3 = df[['price(L)', 'rate_persqft', 'area_insqft']].copy()\n",
    "df3\n",
    "\n",
    "#here we make a new data frame to remove the outliers of the features needed and then concatenate with previous dataframe"
   ]
  },
  {
   "cell_type": "code",
   "execution_count": 38,
   "metadata": {},
   "outputs": [
    {
     "data": {
      "text/html": [
       "<div>\n",
       "<style scoped>\n",
       "    .dataframe tbody tr th:only-of-type {\n",
       "        vertical-align: middle;\n",
       "    }\n",
       "\n",
       "    .dataframe tbody tr th {\n",
       "        vertical-align: top;\n",
       "    }\n",
       "\n",
       "    .dataframe thead th {\n",
       "        text-align: right;\n",
       "    }\n",
       "</style>\n",
       "<table border=\"1\" class=\"dataframe\">\n",
       "  <thead>\n",
       "    <tr style=\"text-align: right;\">\n",
       "      <th></th>\n",
       "      <th>BHK</th>\n",
       "      <th>location</th>\n",
       "      <th>construction_status</th>\n",
       "      <th>Sale_type</th>\n",
       "      <th>Bathroom</th>\n",
       "    </tr>\n",
       "  </thead>\n",
       "  <tbody>\n",
       "    <tr>\n",
       "      <th>0</th>\n",
       "      <td>1</td>\n",
       "      <td>Panvel</td>\n",
       "      <td>Under Construction</td>\n",
       "      <td>new</td>\n",
       "      <td>1</td>\n",
       "    </tr>\n",
       "    <tr>\n",
       "      <th>1</th>\n",
       "      <td>1</td>\n",
       "      <td>Dombivali</td>\n",
       "      <td>Under Construction</td>\n",
       "      <td>new</td>\n",
       "      <td>1</td>\n",
       "    </tr>\n",
       "    <tr>\n",
       "      <th>2</th>\n",
       "      <td>2</td>\n",
       "      <td>Koper Khairane</td>\n",
       "      <td>Under Construction</td>\n",
       "      <td>new</td>\n",
       "      <td>2</td>\n",
       "    </tr>\n",
       "    <tr>\n",
       "      <th>3</th>\n",
       "      <td>2</td>\n",
       "      <td>Dombivali</td>\n",
       "      <td>Under Construction</td>\n",
       "      <td>new</td>\n",
       "      <td>2</td>\n",
       "    </tr>\n",
       "    <tr>\n",
       "      <th>4</th>\n",
       "      <td>1</td>\n",
       "      <td>Jogeshwari West</td>\n",
       "      <td>Under Construction</td>\n",
       "      <td>new</td>\n",
       "      <td>1</td>\n",
       "    </tr>\n",
       "  </tbody>\n",
       "</table>\n",
       "</div>"
      ],
      "text/plain": [
       "   BHK         location construction_status Sale_type  Bathroom\n",
       "0    1           Panvel  Under Construction       new         1\n",
       "1    1        Dombivali  Under Construction       new         1\n",
       "2    2   Koper Khairane  Under Construction       new         2\n",
       "3    2        Dombivali  Under Construction       new         2\n",
       "4    1  Jogeshwari West  Under Construction       new         1"
      ]
     },
     "execution_count": 38,
     "metadata": {},
     "output_type": "execute_result"
    }
   ],
   "source": [
    "df = df.drop(['price(L)','rate_persqft','area_insqft'],axis = 1)\n",
    "df.head()\n",
    "\n",
    "#droping the values so we can concat the new clean features"
   ]
  },
  {
   "cell_type": "code",
   "execution_count": 39,
   "metadata": {},
   "outputs": [],
   "source": [
    "z_scores = stats.zscore(df3)\n",
    "abs_z_scores = np.abs(z_scores)\n",
    "filtered_entries = (abs_z_scores < 3).all(axis=1)\n",
    "df3 = df3[filtered_entries]\n",
    "\n",
    "#using Z-sore to remove the outliers from the features selected"
   ]
  },
  {
   "cell_type": "code",
   "execution_count": 40,
   "metadata": {},
   "outputs": [
    {
     "data": {
      "text/html": [
       "<div>\n",
       "<style scoped>\n",
       "    .dataframe tbody tr th:only-of-type {\n",
       "        vertical-align: middle;\n",
       "    }\n",
       "\n",
       "    .dataframe tbody tr th {\n",
       "        vertical-align: top;\n",
       "    }\n",
       "\n",
       "    .dataframe thead th {\n",
       "        text-align: right;\n",
       "    }\n",
       "</style>\n",
       "<table border=\"1\" class=\"dataframe\">\n",
       "  <thead>\n",
       "    <tr style=\"text-align: right;\">\n",
       "      <th></th>\n",
       "      <th>price(L)</th>\n",
       "      <th>rate_persqft</th>\n",
       "      <th>area_insqft</th>\n",
       "    </tr>\n",
       "  </thead>\n",
       "  <tbody>\n",
       "    <tr>\n",
       "      <th>0</th>\n",
       "      <td>18.49</td>\n",
       "      <td>7034</td>\n",
       "      <td>263</td>\n",
       "    </tr>\n",
       "    <tr>\n",
       "      <th>1</th>\n",
       "      <td>40.00</td>\n",
       "      <td>11869</td>\n",
       "      <td>337</td>\n",
       "    </tr>\n",
       "    <tr>\n",
       "      <th>2</th>\n",
       "      <td>149.00</td>\n",
       "      <td>22513</td>\n",
       "      <td>664</td>\n",
       "    </tr>\n",
       "    <tr>\n",
       "      <th>3</th>\n",
       "      <td>49.00</td>\n",
       "      <td>7802</td>\n",
       "      <td>628</td>\n",
       "    </tr>\n",
       "    <tr>\n",
       "      <th>4</th>\n",
       "      <td>96.00</td>\n",
       "      <td>14222</td>\n",
       "      <td>675</td>\n",
       "    </tr>\n",
       "    <tr>\n",
       "      <th>...</th>\n",
       "      <td>...</td>\n",
       "      <td>...</td>\n",
       "      <td>...</td>\n",
       "    </tr>\n",
       "    <tr>\n",
       "      <th>84035</th>\n",
       "      <td>45.00</td>\n",
       "      <td>15000</td>\n",
       "      <td>300</td>\n",
       "    </tr>\n",
       "    <tr>\n",
       "      <th>84036</th>\n",
       "      <td>80.00</td>\n",
       "      <td>14545</td>\n",
       "      <td>550</td>\n",
       "    </tr>\n",
       "    <tr>\n",
       "      <th>84037</th>\n",
       "      <td>170.00</td>\n",
       "      <td>25185</td>\n",
       "      <td>675</td>\n",
       "    </tr>\n",
       "    <tr>\n",
       "      <th>84038</th>\n",
       "      <td>17.00</td>\n",
       "      <td>1789</td>\n",
       "      <td>950</td>\n",
       "    </tr>\n",
       "    <tr>\n",
       "      <th>84039</th>\n",
       "      <td>95.00</td>\n",
       "      <td>35185</td>\n",
       "      <td>270</td>\n",
       "    </tr>\n",
       "  </tbody>\n",
       "</table>\n",
       "<p>81212 rows × 3 columns</p>\n",
       "</div>"
      ],
      "text/plain": [
       "       price(L)  rate_persqft  area_insqft\n",
       "0         18.49          7034          263\n",
       "1         40.00         11869          337\n",
       "2        149.00         22513          664\n",
       "3         49.00          7802          628\n",
       "4         96.00         14222          675\n",
       "...         ...           ...          ...\n",
       "84035     45.00         15000          300\n",
       "84036     80.00         14545          550\n",
       "84037    170.00         25185          675\n",
       "84038     17.00          1789          950\n",
       "84039     95.00         35185          270\n",
       "\n",
       "[81212 rows x 3 columns]"
      ]
     },
     "execution_count": 40,
     "metadata": {},
     "output_type": "execute_result"
    }
   ],
   "source": [
    "df3\n",
    "\n",
    "#this is our new dataframe with removed outliers affecting our data"
   ]
  },
  {
   "cell_type": "code",
   "execution_count": 41,
   "metadata": {},
   "outputs": [
    {
     "data": {
      "text/plain": [
       "<AxesSubplot:xlabel='price(L)'>"
      ]
     },
     "execution_count": 41,
     "metadata": {},
     "output_type": "execute_result"
    },
    {
     "data": {
      "image/png": "[encoded data removed]",
      "text/plain": [
       "<Figure size 432x288 with 1 Axes>"
      ]
     },
     "metadata": {
      "needs_background": "light"
     },
     "output_type": "display_data"
    }
   ],
   "source": [
    "sns.boxplot(x=df3['price(L)'])\n",
    "\n",
    "#we can compare the above box plots and see the difference outliers has been removed the ones remaining are relevant to our data"
   ]
  },
  {
   "cell_type": "code",
   "execution_count": 42,
   "metadata": {},
   "outputs": [
    {
     "data": {
      "text/plain": [
       "<AxesSubplot:xlabel='rate_persqft'>"
      ]
     },
     "execution_count": 42,
     "metadata": {},
     "output_type": "execute_result"
    },
    {
     "data": {
      "image/png": "[encoded data removed]",
      "text/plain": [
       "<Figure size 432x288 with 1 Axes>"
      ]
     },
     "metadata": {
      "needs_background": "light"
     },
     "output_type": "display_data"
    }
   ],
   "source": [
    "sns.boxplot(x=df3['rate_persqft'])"
   ]
  },
  {
   "cell_type": "code",
   "execution_count": 43,
   "metadata": {},
   "outputs": [
    {
     "data": {
      "text/plain": [
       "<AxesSubplot:xlabel='area_insqft'>"
      ]
     },
     "execution_count": 43,
     "metadata": {},
     "output_type": "execute_result"
    },
    {
     "data": {
      "image/png": "[encoded data removed]",
      "text/plain": [
       "<Figure size 432x288 with 1 Axes>"
      ]
     },
     "metadata": {
      "needs_background": "light"
     },
     "output_type": "display_data"
    }
   ],
   "source": [
    "sns.boxplot(x=df3['area_insqft'])"
   ]
  },
  {
   "cell_type": "code",
   "execution_count": 44,
   "metadata": {},
   "outputs": [
    {
     "data": {
      "text/html": [
       "<div>\n",
       "<style scoped>\n",
       "    .dataframe tbody tr th:only-of-type {\n",
       "        vertical-align: middle;\n",
       "    }\n",
       "\n",
       "    .dataframe tbody tr th {\n",
       "        vertical-align: top;\n",
       "    }\n",
       "\n",
       "    .dataframe thead th {\n",
       "        text-align: right;\n",
       "    }\n",
       "</style>\n",
       "<table border=\"1\" class=\"dataframe\">\n",
       "  <thead>\n",
       "    <tr style=\"text-align: right;\">\n",
       "      <th></th>\n",
       "      <th>BHK</th>\n",
       "      <th>location</th>\n",
       "      <th>construction_status</th>\n",
       "      <th>Sale_type</th>\n",
       "      <th>Bathroom</th>\n",
       "      <th>price(L)</th>\n",
       "      <th>rate_persqft</th>\n",
       "      <th>area_insqft</th>\n",
       "    </tr>\n",
       "  </thead>\n",
       "  <tbody>\n",
       "    <tr>\n",
       "      <th>0</th>\n",
       "      <td>1</td>\n",
       "      <td>Panvel</td>\n",
       "      <td>Under Construction</td>\n",
       "      <td>new</td>\n",
       "      <td>1</td>\n",
       "      <td>18.49</td>\n",
       "      <td>7034.0</td>\n",
       "      <td>263.0</td>\n",
       "    </tr>\n",
       "    <tr>\n",
       "      <th>1</th>\n",
       "      <td>1</td>\n",
       "      <td>Dombivali</td>\n",
       "      <td>Under Construction</td>\n",
       "      <td>new</td>\n",
       "      <td>1</td>\n",
       "      <td>40.00</td>\n",
       "      <td>11869.0</td>\n",
       "      <td>337.0</td>\n",
       "    </tr>\n",
       "    <tr>\n",
       "      <th>2</th>\n",
       "      <td>2</td>\n",
       "      <td>Koper Khairane</td>\n",
       "      <td>Under Construction</td>\n",
       "      <td>new</td>\n",
       "      <td>2</td>\n",
       "      <td>149.00</td>\n",
       "      <td>22513.0</td>\n",
       "      <td>664.0</td>\n",
       "    </tr>\n",
       "    <tr>\n",
       "      <th>3</th>\n",
       "      <td>2</td>\n",
       "      <td>Dombivali</td>\n",
       "      <td>Under Construction</td>\n",
       "      <td>new</td>\n",
       "      <td>2</td>\n",
       "      <td>49.00</td>\n",
       "      <td>7802.0</td>\n",
       "      <td>628.0</td>\n",
       "    </tr>\n",
       "    <tr>\n",
       "      <th>4</th>\n",
       "      <td>1</td>\n",
       "      <td>Jogeshwari West</td>\n",
       "      <td>Under Construction</td>\n",
       "      <td>new</td>\n",
       "      <td>1</td>\n",
       "      <td>96.00</td>\n",
       "      <td>14222.0</td>\n",
       "      <td>675.0</td>\n",
       "    </tr>\n",
       "  </tbody>\n",
       "</table>\n",
       "</div>"
      ],
      "text/plain": [
       "   BHK         location construction_status Sale_type  Bathroom  price(L)  \\\n",
       "0    1           Panvel  Under Construction       new         1     18.49   \n",
       "1    1        Dombivali  Under Construction       new         1     40.00   \n",
       "2    2   Koper Khairane  Under Construction       new         2    149.00   \n",
       "3    2        Dombivali  Under Construction       new         2     49.00   \n",
       "4    1  Jogeshwari West  Under Construction       new         1     96.00   \n",
       "\n",
       "   rate_persqft  area_insqft  \n",
       "0        7034.0        263.0  \n",
       "1       11869.0        337.0  \n",
       "2       22513.0        664.0  \n",
       "3        7802.0        628.0  \n",
       "4       14222.0        675.0  "
      ]
     },
     "execution_count": 44,
     "metadata": {},
     "output_type": "execute_result"
    }
   ],
   "source": [
    "df = pd.concat([df, df3], axis=1)\n",
    "df.head()\n",
    "\n",
    "#concatenate to our previous dataframe"
   ]
  },
  {
   "cell_type": "code",
   "execution_count": 45,
   "metadata": {},
   "outputs": [
    {
     "data": {
      "text/plain": [
       "BHK                       0\n",
       "location                  0\n",
       "construction_status       0\n",
       "Sale_type                 0\n",
       "Bathroom                  0\n",
       "price(L)               2828\n",
       "rate_persqft           2828\n",
       "area_insqft            2828\n",
       "dtype: int64"
      ]
     },
     "execution_count": 45,
     "metadata": {},
     "output_type": "execute_result"
    }
   ],
   "source": [
    "df.isnull().sum()\n",
    "\n",
    "#after we removed the outliers we get some na values "
   ]
  },
  {
   "cell_type": "code",
   "execution_count": 46,
   "metadata": {},
   "outputs": [
    {
     "data": {
      "text/html": [
       "<div>\n",
       "<style scoped>\n",
       "    .dataframe tbody tr th:only-of-type {\n",
       "        vertical-align: middle;\n",
       "    }\n",
       "\n",
       "    .dataframe tbody tr th {\n",
       "        vertical-align: top;\n",
       "    }\n",
       "\n",
       "    .dataframe thead th {\n",
       "        text-align: right;\n",
       "    }\n",
       "</style>\n",
       "<table border=\"1\" class=\"dataframe\">\n",
       "  <thead>\n",
       "    <tr style=\"text-align: right;\">\n",
       "      <th></th>\n",
       "      <th>BHK</th>\n",
       "      <th>location</th>\n",
       "      <th>construction_status</th>\n",
       "      <th>Sale_type</th>\n",
       "      <th>Bathroom</th>\n",
       "      <th>price(L)</th>\n",
       "      <th>rate_persqft</th>\n",
       "      <th>area_insqft</th>\n",
       "    </tr>\n",
       "  </thead>\n",
       "  <tbody>\n",
       "    <tr>\n",
       "      <th>0</th>\n",
       "      <td>1</td>\n",
       "      <td>Panvel</td>\n",
       "      <td>Under Construction</td>\n",
       "      <td>new</td>\n",
       "      <td>1</td>\n",
       "      <td>18.49</td>\n",
       "      <td>7034.0</td>\n",
       "      <td>263.0</td>\n",
       "    </tr>\n",
       "    <tr>\n",
       "      <th>1</th>\n",
       "      <td>1</td>\n",
       "      <td>Dombivali</td>\n",
       "      <td>Under Construction</td>\n",
       "      <td>new</td>\n",
       "      <td>1</td>\n",
       "      <td>40.00</td>\n",
       "      <td>11869.0</td>\n",
       "      <td>337.0</td>\n",
       "    </tr>\n",
       "    <tr>\n",
       "      <th>2</th>\n",
       "      <td>2</td>\n",
       "      <td>Koper Khairane</td>\n",
       "      <td>Under Construction</td>\n",
       "      <td>new</td>\n",
       "      <td>2</td>\n",
       "      <td>149.00</td>\n",
       "      <td>22513.0</td>\n",
       "      <td>664.0</td>\n",
       "    </tr>\n",
       "    <tr>\n",
       "      <th>3</th>\n",
       "      <td>2</td>\n",
       "      <td>Dombivali</td>\n",
       "      <td>Under Construction</td>\n",
       "      <td>new</td>\n",
       "      <td>2</td>\n",
       "      <td>49.00</td>\n",
       "      <td>7802.0</td>\n",
       "      <td>628.0</td>\n",
       "    </tr>\n",
       "    <tr>\n",
       "      <th>4</th>\n",
       "      <td>1</td>\n",
       "      <td>Jogeshwari West</td>\n",
       "      <td>Under Construction</td>\n",
       "      <td>new</td>\n",
       "      <td>1</td>\n",
       "      <td>96.00</td>\n",
       "      <td>14222.0</td>\n",
       "      <td>675.0</td>\n",
       "    </tr>\n",
       "    <tr>\n",
       "      <th>...</th>\n",
       "      <td>...</td>\n",
       "      <td>...</td>\n",
       "      <td>...</td>\n",
       "      <td>...</td>\n",
       "      <td>...</td>\n",
       "      <td>...</td>\n",
       "      <td>...</td>\n",
       "      <td>...</td>\n",
       "    </tr>\n",
       "    <tr>\n",
       "      <th>84035</th>\n",
       "      <td>1</td>\n",
       "      <td>Ghatkopar East</td>\n",
       "      <td>Ready to move</td>\n",
       "      <td>resale</td>\n",
       "      <td>1</td>\n",
       "      <td>45.00</td>\n",
       "      <td>15000.0</td>\n",
       "      <td>300.0</td>\n",
       "    </tr>\n",
       "    <tr>\n",
       "      <th>84036</th>\n",
       "      <td>1</td>\n",
       "      <td>Ghatkopar</td>\n",
       "      <td>Ready to move</td>\n",
       "      <td>resale</td>\n",
       "      <td>1</td>\n",
       "      <td>80.00</td>\n",
       "      <td>14545.0</td>\n",
       "      <td>550.0</td>\n",
       "    </tr>\n",
       "    <tr>\n",
       "      <th>84037</th>\n",
       "      <td>2</td>\n",
       "      <td>Ghatkopar</td>\n",
       "      <td>Ready to move</td>\n",
       "      <td>resale</td>\n",
       "      <td>2</td>\n",
       "      <td>170.00</td>\n",
       "      <td>25185.0</td>\n",
       "      <td>675.0</td>\n",
       "    </tr>\n",
       "    <tr>\n",
       "      <th>84038</th>\n",
       "      <td>2</td>\n",
       "      <td>Ghatkopar</td>\n",
       "      <td>Ready to move</td>\n",
       "      <td>resale</td>\n",
       "      <td>2</td>\n",
       "      <td>17.00</td>\n",
       "      <td>1789.0</td>\n",
       "      <td>950.0</td>\n",
       "    </tr>\n",
       "    <tr>\n",
       "      <th>84039</th>\n",
       "      <td>1</td>\n",
       "      <td>Vile Parle</td>\n",
       "      <td>Ready to move</td>\n",
       "      <td>resale</td>\n",
       "      <td>1</td>\n",
       "      <td>95.00</td>\n",
       "      <td>35185.0</td>\n",
       "      <td>270.0</td>\n",
       "    </tr>\n",
       "  </tbody>\n",
       "</table>\n",
       "<p>81212 rows × 8 columns</p>\n",
       "</div>"
      ],
      "text/plain": [
       "       BHK         location construction_status Sale_type  Bathroom  price(L)  \\\n",
       "0        1           Panvel  Under Construction       new         1     18.49   \n",
       "1        1        Dombivali  Under Construction       new         1     40.00   \n",
       "2        2   Koper Khairane  Under Construction       new         2    149.00   \n",
       "3        2        Dombivali  Under Construction       new         2     49.00   \n",
       "4        1  Jogeshwari West  Under Construction       new         1     96.00   \n",
       "...    ...              ...                 ...       ...       ...       ...   \n",
       "84035    1   Ghatkopar East       Ready to move    resale         1     45.00   \n",
       "84036    1        Ghatkopar       Ready to move    resale         1     80.00   \n",
       "84037    2        Ghatkopar       Ready to move    resale         2    170.00   \n",
       "84038    2        Ghatkopar       Ready to move    resale         2     17.00   \n",
       "84039    1       Vile Parle       Ready to move    resale         1     95.00   \n",
       "\n",
       "       rate_persqft  area_insqft  \n",
       "0            7034.0        263.0  \n",
       "1           11869.0        337.0  \n",
       "2           22513.0        664.0  \n",
       "3            7802.0        628.0  \n",
       "4           14222.0        675.0  \n",
       "...             ...          ...  \n",
       "84035       15000.0        300.0  \n",
       "84036       14545.0        550.0  \n",
       "84037       25185.0        675.0  \n",
       "84038        1789.0        950.0  \n",
       "84039       35185.0        270.0  \n",
       "\n",
       "[81212 rows x 8 columns]"
      ]
     },
     "execution_count": 46,
     "metadata": {},
     "output_type": "execute_result"
    }
   ],
   "source": [
    "df = df.dropna()\n",
    "df\n",
    "\n",
    "#we can drop those values and reset the index so we get all aligned dataset"
   ]
  },
  {
   "cell_type": "code",
   "execution_count": 47,
   "metadata": {},
   "outputs": [],
   "source": [
    "df=df.reset_index()\n",
    "\n",
    "#resetting the index"
   ]
  },
  {
   "cell_type": "code",
   "execution_count": 48,
   "metadata": {},
   "outputs": [
    {
     "data": {
      "text/html": [
       "<div>\n",
       "<style scoped>\n",
       "    .dataframe tbody tr th:only-of-type {\n",
       "        vertical-align: middle;\n",
       "    }\n",
       "\n",
       "    .dataframe tbody tr th {\n",
       "        vertical-align: top;\n",
       "    }\n",
       "\n",
       "    .dataframe thead th {\n",
       "        text-align: right;\n",
       "    }\n",
       "</style>\n",
       "<table border=\"1\" class=\"dataframe\">\n",
       "  <thead>\n",
       "    <tr style=\"text-align: right;\">\n",
       "      <th></th>\n",
       "      <th>BHK</th>\n",
       "      <th>location</th>\n",
       "      <th>construction_status</th>\n",
       "      <th>Sale_type</th>\n",
       "      <th>Bathroom</th>\n",
       "      <th>price(L)</th>\n",
       "      <th>rate_persqft</th>\n",
       "      <th>area_insqft</th>\n",
       "    </tr>\n",
       "  </thead>\n",
       "  <tbody>\n",
       "    <tr>\n",
       "      <th>0</th>\n",
       "      <td>1</td>\n",
       "      <td>Panvel</td>\n",
       "      <td>Under Construction</td>\n",
       "      <td>new</td>\n",
       "      <td>1</td>\n",
       "      <td>18.49</td>\n",
       "      <td>7034.0</td>\n",
       "      <td>263.0</td>\n",
       "    </tr>\n",
       "    <tr>\n",
       "      <th>1</th>\n",
       "      <td>1</td>\n",
       "      <td>Dombivali</td>\n",
       "      <td>Under Construction</td>\n",
       "      <td>new</td>\n",
       "      <td>1</td>\n",
       "      <td>40.00</td>\n",
       "      <td>11869.0</td>\n",
       "      <td>337.0</td>\n",
       "    </tr>\n",
       "    <tr>\n",
       "      <th>2</th>\n",
       "      <td>2</td>\n",
       "      <td>Koper Khairane</td>\n",
       "      <td>Under Construction</td>\n",
       "      <td>new</td>\n",
       "      <td>2</td>\n",
       "      <td>149.00</td>\n",
       "      <td>22513.0</td>\n",
       "      <td>664.0</td>\n",
       "    </tr>\n",
       "    <tr>\n",
       "      <th>3</th>\n",
       "      <td>2</td>\n",
       "      <td>Dombivali</td>\n",
       "      <td>Under Construction</td>\n",
       "      <td>new</td>\n",
       "      <td>2</td>\n",
       "      <td>49.00</td>\n",
       "      <td>7802.0</td>\n",
       "      <td>628.0</td>\n",
       "    </tr>\n",
       "    <tr>\n",
       "      <th>4</th>\n",
       "      <td>1</td>\n",
       "      <td>Jogeshwari West</td>\n",
       "      <td>Under Construction</td>\n",
       "      <td>new</td>\n",
       "      <td>1</td>\n",
       "      <td>96.00</td>\n",
       "      <td>14222.0</td>\n",
       "      <td>675.0</td>\n",
       "    </tr>\n",
       "  </tbody>\n",
       "</table>\n",
       "</div>"
      ],
      "text/plain": [
       "   BHK         location construction_status Sale_type  Bathroom  price(L)  \\\n",
       "0    1           Panvel  Under Construction       new         1     18.49   \n",
       "1    1        Dombivali  Under Construction       new         1     40.00   \n",
       "2    2   Koper Khairane  Under Construction       new         2    149.00   \n",
       "3    2        Dombivali  Under Construction       new         2     49.00   \n",
       "4    1  Jogeshwari West  Under Construction       new         1     96.00   \n",
       "\n",
       "   rate_persqft  area_insqft  \n",
       "0        7034.0        263.0  \n",
       "1       11869.0        337.0  \n",
       "2       22513.0        664.0  \n",
       "3        7802.0        628.0  \n",
       "4       14222.0        675.0  "
      ]
     },
     "execution_count": 48,
     "metadata": {},
     "output_type": "execute_result"
    }
   ],
   "source": [
    "df=df.drop(labels='index',axis=1)\n",
    "df.head()\n",
    "\n",
    "#drop the extra index created that we dont need"
   ]
  },
  {
   "cell_type": "markdown",
   "metadata": {},
   "source": [
    "# Categorical variable encoding"
   ]
  },
  {
   "cell_type": "markdown",
   "metadata": {},
   "source": [
    "# Encoding Construction_status"
   ]
  },
  {
   "cell_type": "code",
   "execution_count": 49,
   "metadata": {},
   "outputs": [
    {
     "data": {
      "text/plain": [
       "(81212, 10)"
      ]
     },
     "execution_count": 49,
     "metadata": {},
     "output_type": "execute_result"
    }
   ],
   "source": [
    "for cat_var in [\"Under Construction\",\"Ready to move\"]:\n",
    "    df[\"construction_status\"+cat_var] = np.where(df['construction_status']==cat_var, 1,0)\n",
    "df.shape"
   ]
  },
  {
   "cell_type": "markdown",
   "metadata": {},
   "source": [
    "# Encoding Sale_type"
   ]
  },
  {
   "cell_type": "code",
   "execution_count": 50,
   "metadata": {},
   "outputs": [
    {
     "data": {
      "text/plain": [
       "(81212, 12)"
      ]
     },
     "execution_count": 50,
     "metadata": {},
     "output_type": "execute_result"
    }
   ],
   "source": [
    "for cat_var in [\"new\",\"resale\"]:\n",
    "    df[\"Sale_type\"+cat_var] = np.where(df['Sale_type']==cat_var, 1,0)\n",
    "df.shape"
   ]
  },
  {
   "cell_type": "markdown",
   "metadata": {},
   "source": [
    "# Encoding Location"
   ]
  },
  {
   "cell_type": "code",
   "execution_count": 51,
   "metadata": {},
   "outputs": [
    {
     "data": {
      "text/plain": [
       "Thane West             6642\n",
       "Mira Road East         5832\n",
       "Kharghar               2819\n",
       "Kandivali East         2442\n",
       "Ulwe                   2390\n",
       "                       ... \n",
       "Yashaswi Nagar            1\n",
       "Rawalapada                1\n",
       "ahimsa marg               1\n",
       "Vaishali Nagar Road       1\n",
       "Penkarpada Road           1\n",
       "Name: location, Length: 1216, dtype: int64"
      ]
     },
     "execution_count": 51,
     "metadata": {},
     "output_type": "execute_result"
    }
   ],
   "source": [
    "# here we are selecting only the location which have count above 50\n",
    "\n",
    "location_value_count = df['location'].value_counts()\n",
    "location_value_count"
   ]
  },
  {
   "cell_type": "code",
   "execution_count": 52,
   "metadata": {},
   "outputs": [
    {
     "data": {
      "text/plain": [
       "Index(['Thane West', 'Mira Road East', 'Kharghar', 'Kandivali East', 'Ulwe',\n",
       "       'Dombivali', 'Virar', 'Chembur', 'Kalyan West', 'Panvel',\n",
       "       ...\n",
       "       'Mazgaon', 'Sector-18 Ulwe', 'Ulhasnagar', 'vasant vihar thane west',\n",
       "       'New Balaji Nagar', 'Bhayandar West', 'Roadpali', 'Bhandup East',\n",
       "       'Mahim', 'Agripada'],\n",
       "      dtype='object', length=146)"
      ]
     },
     "execution_count": 52,
     "metadata": {},
     "output_type": "execute_result"
    }
   ],
   "source": [
    "location_get_50 = location_value_count[location_value_count>=50].index\n",
    "location_get_50"
   ]
  },
  {
   "cell_type": "code",
   "execution_count": 53,
   "metadata": {},
   "outputs": [
    {
     "data": {
      "text/plain": [
       "(81212, 158)"
      ]
     },
     "execution_count": 53,
     "metadata": {},
     "output_type": "execute_result"
    }
   ],
   "source": [
    "for cat_var in location_get_50:\n",
    "    df['location_'+cat_var]=np.where(df['location']==cat_var, 1,0)\n",
    "df.shape"
   ]
  },
  {
   "cell_type": "code",
   "execution_count": 54,
   "metadata": {},
   "outputs": [
    {
     "data": {
      "text/html": [
       "<div>\n",
       "<style scoped>\n",
       "    .dataframe tbody tr th:only-of-type {\n",
       "        vertical-align: middle;\n",
       "    }\n",
       "\n",
       "    .dataframe tbody tr th {\n",
       "        vertical-align: top;\n",
       "    }\n",
       "\n",
       "    .dataframe thead th {\n",
       "        text-align: right;\n",
       "    }\n",
       "</style>\n",
       "<table border=\"1\" class=\"dataframe\">\n",
       "  <thead>\n",
       "    <tr style=\"text-align: right;\">\n",
       "      <th></th>\n",
       "      <th>BHK</th>\n",
       "      <th>location</th>\n",
       "      <th>construction_status</th>\n",
       "      <th>Sale_type</th>\n",
       "      <th>Bathroom</th>\n",
       "      <th>price(L)</th>\n",
       "      <th>rate_persqft</th>\n",
       "      <th>area_insqft</th>\n",
       "      <th>construction_statusUnder Construction</th>\n",
       "      <th>construction_statusReady to move</th>\n",
       "      <th>...</th>\n",
       "      <th>location_Mazgaon</th>\n",
       "      <th>location_Sector-18 Ulwe</th>\n",
       "      <th>location_Ulhasnagar</th>\n",
       "      <th>location_vasant vihar thane west</th>\n",
       "      <th>location_New Balaji Nagar</th>\n",
       "      <th>location_Bhayandar West</th>\n",
       "      <th>location_Roadpali</th>\n",
       "      <th>location_Bhandup East</th>\n",
       "      <th>location_Mahim</th>\n",
       "      <th>location_Agripada</th>\n",
       "    </tr>\n",
       "  </thead>\n",
       "  <tbody>\n",
       "    <tr>\n",
       "      <th>0</th>\n",
       "      <td>1</td>\n",
       "      <td>Panvel</td>\n",
       "      <td>Under Construction</td>\n",
       "      <td>new</td>\n",
       "      <td>1</td>\n",
       "      <td>18.49</td>\n",
       "      <td>7034.0</td>\n",
       "      <td>263.0</td>\n",
       "      <td>1</td>\n",
       "      <td>0</td>\n",
       "      <td>...</td>\n",
       "      <td>0</td>\n",
       "      <td>0</td>\n",
       "      <td>0</td>\n",
       "      <td>0</td>\n",
       "      <td>0</td>\n",
       "      <td>0</td>\n",
       "      <td>0</td>\n",
       "      <td>0</td>\n",
       "      <td>0</td>\n",
       "      <td>0</td>\n",
       "    </tr>\n",
       "    <tr>\n",
       "      <th>1</th>\n",
       "      <td>1</td>\n",
       "      <td>Dombivali</td>\n",
       "      <td>Under Construction</td>\n",
       "      <td>new</td>\n",
       "      <td>1</td>\n",
       "      <td>40.00</td>\n",
       "      <td>11869.0</td>\n",
       "      <td>337.0</td>\n",
       "      <td>1</td>\n",
       "      <td>0</td>\n",
       "      <td>...</td>\n",
       "      <td>0</td>\n",
       "      <td>0</td>\n",
       "      <td>0</td>\n",
       "      <td>0</td>\n",
       "      <td>0</td>\n",
       "      <td>0</td>\n",
       "      <td>0</td>\n",
       "      <td>0</td>\n",
       "      <td>0</td>\n",
       "      <td>0</td>\n",
       "    </tr>\n",
       "    <tr>\n",
       "      <th>2</th>\n",
       "      <td>2</td>\n",
       "      <td>Koper Khairane</td>\n",
       "      <td>Under Construction</td>\n",
       "      <td>new</td>\n",
       "      <td>2</td>\n",
       "      <td>149.00</td>\n",
       "      <td>22513.0</td>\n",
       "      <td>664.0</td>\n",
       "      <td>1</td>\n",
       "      <td>0</td>\n",
       "      <td>...</td>\n",
       "      <td>0</td>\n",
       "      <td>0</td>\n",
       "      <td>0</td>\n",
       "      <td>0</td>\n",
       "      <td>0</td>\n",
       "      <td>0</td>\n",
       "      <td>0</td>\n",
       "      <td>0</td>\n",
       "      <td>0</td>\n",
       "      <td>0</td>\n",
       "    </tr>\n",
       "    <tr>\n",
       "      <th>3</th>\n",
       "      <td>2</td>\n",
       "      <td>Dombivali</td>\n",
       "      <td>Under Construction</td>\n",
       "      <td>new</td>\n",
       "      <td>2</td>\n",
       "      <td>49.00</td>\n",
       "      <td>7802.0</td>\n",
       "      <td>628.0</td>\n",
       "      <td>1</td>\n",
       "      <td>0</td>\n",
       "      <td>...</td>\n",
       "      <td>0</td>\n",
       "      <td>0</td>\n",
       "      <td>0</td>\n",
       "      <td>0</td>\n",
       "      <td>0</td>\n",
       "      <td>0</td>\n",
       "      <td>0</td>\n",
       "      <td>0</td>\n",
       "      <td>0</td>\n",
       "      <td>0</td>\n",
       "    </tr>\n",
       "    <tr>\n",
       "      <th>4</th>\n",
       "      <td>1</td>\n",
       "      <td>Jogeshwari West</td>\n",
       "      <td>Under Construction</td>\n",
       "      <td>new</td>\n",
       "      <td>1</td>\n",
       "      <td>96.00</td>\n",
       "      <td>14222.0</td>\n",
       "      <td>675.0</td>\n",
       "      <td>1</td>\n",
       "      <td>0</td>\n",
       "      <td>...</td>\n",
       "      <td>0</td>\n",
       "      <td>0</td>\n",
       "      <td>0</td>\n",
       "      <td>0</td>\n",
       "      <td>0</td>\n",
       "      <td>0</td>\n",
       "      <td>0</td>\n",
       "      <td>0</td>\n",
       "      <td>0</td>\n",
       "      <td>0</td>\n",
       "    </tr>\n",
       "  </tbody>\n",
       "</table>\n",
       "<p>5 rows × 158 columns</p>\n",
       "</div>"
      ],
      "text/plain": [
       "   BHK         location construction_status Sale_type  Bathroom  price(L)  \\\n",
       "0    1           Panvel  Under Construction       new         1     18.49   \n",
       "1    1        Dombivali  Under Construction       new         1     40.00   \n",
       "2    2   Koper Khairane  Under Construction       new         2    149.00   \n",
       "3    2        Dombivali  Under Construction       new         2     49.00   \n",
       "4    1  Jogeshwari West  Under Construction       new         1     96.00   \n",
       "\n",
       "   rate_persqft  area_insqft  construction_statusUnder Construction  \\\n",
       "0        7034.0        263.0                                      1   \n",
       "1       11869.0        337.0                                      1   \n",
       "2       22513.0        664.0                                      1   \n",
       "3        7802.0        628.0                                      1   \n",
       "4       14222.0        675.0                                      1   \n",
       "\n",
       "   construction_statusReady to move  ...  location_Mazgaon  \\\n",
       "0                                 0  ...                 0   \n",
       "1                                 0  ...                 0   \n",
       "2                                 0  ...                 0   \n",
       "3                                 0  ...                 0   \n",
       "4                                 0  ...                 0   \n",
       "\n",
       "   location_Sector-18 Ulwe  location_Ulhasnagar  \\\n",
       "0                        0                    0   \n",
       "1                        0                    0   \n",
       "2                        0                    0   \n",
       "3                        0                    0   \n",
       "4                        0                    0   \n",
       "\n",
       "   location_vasant vihar thane west  location_New Balaji Nagar  \\\n",
       "0                                 0                          0   \n",
       "1                                 0                          0   \n",
       "2                                 0                          0   \n",
       "3                                 0                          0   \n",
       "4                                 0                          0   \n",
       "\n",
       "   location_Bhayandar West  location_Roadpali  location_Bhandup East  \\\n",
       "0                        0                  0                      0   \n",
       "1                        0                  0                      0   \n",
       "2                        0                  0                      0   \n",
       "3                        0                  0                      0   \n",
       "4                        0                  0                      0   \n",
       "\n",
       "   location_Mahim  location_Agripada  \n",
       "0               0                  0  \n",
       "1               0                  0  \n",
       "2               0                  0  \n",
       "3               0                  0  \n",
       "4               0                  0  \n",
       "\n",
       "[5 rows x 158 columns]"
      ]
     },
     "execution_count": 54,
     "metadata": {},
     "output_type": "execute_result"
    }
   ],
   "source": [
    "df.head()"
   ]
  },
  {
   "cell_type": "markdown",
   "metadata": {},
   "source": [
    "# Drop categorical variable"
   ]
  },
  {
   "cell_type": "code",
   "execution_count": 55,
   "metadata": {},
   "outputs": [
    {
     "data": {
      "text/plain": [
       "(81212, 155)"
      ]
     },
     "execution_count": 55,
     "metadata": {},
     "output_type": "execute_result"
    }
   ],
   "source": [
    "df = df.drop([\"location\",\"construction_status\",'Sale_type'], axis =1)\n",
    "df.shape"
   ]
  },
  {
   "cell_type": "code",
   "execution_count": 56,
   "metadata": {},
   "outputs": [
    {
     "data": {
      "text/html": [
       "<div>\n",
       "<style scoped>\n",
       "    .dataframe tbody tr th:only-of-type {\n",
       "        vertical-align: middle;\n",
       "    }\n",
       "\n",
       "    .dataframe tbody tr th {\n",
       "        vertical-align: top;\n",
       "    }\n",
       "\n",
       "    .dataframe thead th {\n",
       "        text-align: right;\n",
       "    }\n",
       "</style>\n",
       "<table border=\"1\" class=\"dataframe\">\n",
       "  <thead>\n",
       "    <tr style=\"text-align: right;\">\n",
       "      <th></th>\n",
       "      <th>BHK</th>\n",
       "      <th>Bathroom</th>\n",
       "      <th>price(L)</th>\n",
       "      <th>rate_persqft</th>\n",
       "      <th>area_insqft</th>\n",
       "      <th>construction_statusUnder Construction</th>\n",
       "      <th>construction_statusReady to move</th>\n",
       "      <th>Sale_typenew</th>\n",
       "      <th>Sale_typeresale</th>\n",
       "      <th>location_Thane West</th>\n",
       "      <th>...</th>\n",
       "      <th>location_Mazgaon</th>\n",
       "      <th>location_Sector-18 Ulwe</th>\n",
       "      <th>location_Ulhasnagar</th>\n",
       "      <th>location_vasant vihar thane west</th>\n",
       "      <th>location_New Balaji Nagar</th>\n",
       "      <th>location_Bhayandar West</th>\n",
       "      <th>location_Roadpali</th>\n",
       "      <th>location_Bhandup East</th>\n",
       "      <th>location_Mahim</th>\n",
       "      <th>location_Agripada</th>\n",
       "    </tr>\n",
       "  </thead>\n",
       "  <tbody>\n",
       "    <tr>\n",
       "      <th>0</th>\n",
       "      <td>1</td>\n",
       "      <td>1</td>\n",
       "      <td>18.49</td>\n",
       "      <td>7034.0</td>\n",
       "      <td>263.0</td>\n",
       "      <td>1</td>\n",
       "      <td>0</td>\n",
       "      <td>1</td>\n",
       "      <td>0</td>\n",
       "      <td>0</td>\n",
       "      <td>...</td>\n",
       "      <td>0</td>\n",
       "      <td>0</td>\n",
       "      <td>0</td>\n",
       "      <td>0</td>\n",
       "      <td>0</td>\n",
       "      <td>0</td>\n",
       "      <td>0</td>\n",
       "      <td>0</td>\n",
       "      <td>0</td>\n",
       "      <td>0</td>\n",
       "    </tr>\n",
       "    <tr>\n",
       "      <th>1</th>\n",
       "      <td>1</td>\n",
       "      <td>1</td>\n",
       "      <td>40.00</td>\n",
       "      <td>11869.0</td>\n",
       "      <td>337.0</td>\n",
       "      <td>1</td>\n",
       "      <td>0</td>\n",
       "      <td>1</td>\n",
       "      <td>0</td>\n",
       "      <td>0</td>\n",
       "      <td>...</td>\n",
       "      <td>0</td>\n",
       "      <td>0</td>\n",
       "      <td>0</td>\n",
       "      <td>0</td>\n",
       "      <td>0</td>\n",
       "      <td>0</td>\n",
       "      <td>0</td>\n",
       "      <td>0</td>\n",
       "      <td>0</td>\n",
       "      <td>0</td>\n",
       "    </tr>\n",
       "    <tr>\n",
       "      <th>2</th>\n",
       "      <td>2</td>\n",
       "      <td>2</td>\n",
       "      <td>149.00</td>\n",
       "      <td>22513.0</td>\n",
       "      <td>664.0</td>\n",
       "      <td>1</td>\n",
       "      <td>0</td>\n",
       "      <td>1</td>\n",
       "      <td>0</td>\n",
       "      <td>0</td>\n",
       "      <td>...</td>\n",
       "      <td>0</td>\n",
       "      <td>0</td>\n",
       "      <td>0</td>\n",
       "      <td>0</td>\n",
       "      <td>0</td>\n",
       "      <td>0</td>\n",
       "      <td>0</td>\n",
       "      <td>0</td>\n",
       "      <td>0</td>\n",
       "      <td>0</td>\n",
       "    </tr>\n",
       "    <tr>\n",
       "      <th>3</th>\n",
       "      <td>2</td>\n",
       "      <td>2</td>\n",
       "      <td>49.00</td>\n",
       "      <td>7802.0</td>\n",
       "      <td>628.0</td>\n",
       "      <td>1</td>\n",
       "      <td>0</td>\n",
       "      <td>1</td>\n",
       "      <td>0</td>\n",
       "      <td>0</td>\n",
       "      <td>...</td>\n",
       "      <td>0</td>\n",
       "      <td>0</td>\n",
       "      <td>0</td>\n",
       "      <td>0</td>\n",
       "      <td>0</td>\n",
       "      <td>0</td>\n",
       "      <td>0</td>\n",
       "      <td>0</td>\n",
       "      <td>0</td>\n",
       "      <td>0</td>\n",
       "    </tr>\n",
       "    <tr>\n",
       "      <th>4</th>\n",
       "      <td>1</td>\n",
       "      <td>1</td>\n",
       "      <td>96.00</td>\n",
       "      <td>14222.0</td>\n",
       "      <td>675.0</td>\n",
       "      <td>1</td>\n",
       "      <td>0</td>\n",
       "      <td>1</td>\n",
       "      <td>0</td>\n",
       "      <td>0</td>\n",
       "      <td>...</td>\n",
       "      <td>0</td>\n",
       "      <td>0</td>\n",
       "      <td>0</td>\n",
       "      <td>0</td>\n",
       "      <td>0</td>\n",
       "      <td>0</td>\n",
       "      <td>0</td>\n",
       "      <td>0</td>\n",
       "      <td>0</td>\n",
       "      <td>0</td>\n",
       "    </tr>\n",
       "  </tbody>\n",
       "</table>\n",
       "<p>5 rows × 155 columns</p>\n",
       "</div>"
      ],
      "text/plain": [
       "   BHK  Bathroom  price(L)  rate_persqft  area_insqft  \\\n",
       "0    1         1     18.49        7034.0        263.0   \n",
       "1    1         1     40.00       11869.0        337.0   \n",
       "2    2         2    149.00       22513.0        664.0   \n",
       "3    2         2     49.00        7802.0        628.0   \n",
       "4    1         1     96.00       14222.0        675.0   \n",
       "\n",
       "   construction_statusUnder Construction  construction_statusReady to move  \\\n",
       "0                                      1                                 0   \n",
       "1                                      1                                 0   \n",
       "2                                      1                                 0   \n",
       "3                                      1                                 0   \n",
       "4                                      1                                 0   \n",
       "\n",
       "   Sale_typenew  Sale_typeresale  location_Thane West  ...  location_Mazgaon  \\\n",
       "0             1                0                    0  ...                 0   \n",
       "1             1                0                    0  ...                 0   \n",
       "2             1                0                    0  ...                 0   \n",
       "3             1                0                    0  ...                 0   \n",
       "4             1                0                    0  ...                 0   \n",
       "\n",
       "   location_Sector-18 Ulwe  location_Ulhasnagar  \\\n",
       "0                        0                    0   \n",
       "1                        0                    0   \n",
       "2                        0                    0   \n",
       "3                        0                    0   \n",
       "4                        0                    0   \n",
       "\n",
       "   location_vasant vihar thane west  location_New Balaji Nagar  \\\n",
       "0                                 0                          0   \n",
       "1                                 0                          0   \n",
       "2                                 0                          0   \n",
       "3                                 0                          0   \n",
       "4                                 0                          0   \n",
       "\n",
       "   location_Bhayandar West  location_Roadpali  location_Bhandup East  \\\n",
       "0                        0                  0                      0   \n",
       "1                        0                  0                      0   \n",
       "2                        0                  0                      0   \n",
       "3                        0                  0                      0   \n",
       "4                        0                  0                      0   \n",
       "\n",
       "   location_Mahim  location_Agripada  \n",
       "0               0                  0  \n",
       "1               0                  0  \n",
       "2               0                  0  \n",
       "3               0                  0  \n",
       "4               0                  0  \n",
       "\n",
       "[5 rows x 155 columns]"
      ]
     },
     "execution_count": 56,
     "metadata": {},
     "output_type": "execute_result"
    }
   ],
   "source": [
    "df.head()"
   ]
  },
  {
   "cell_type": "code",
   "execution_count": 57,
   "metadata": {},
   "outputs": [],
   "source": [
    "df.to_csv('final_house_scrape.csv', index=False) "
   ]
  }
 ],
 "metadata": {
  "kernelspec": {
   "display_name": "Python 3",
   "language": "python",
   "name": "python3"
  },
  "language_info": {
   "codemirror_mode": {
    "name": "ipython",
    "version": 3
   },
   "file_extension": ".py",
   "mimetype": "text/x-python",
   "name": "python",
   "nbconvert_exporter": "python",
   "pygments_lexer": "ipython3",
   "version": "3.8.5"
  }
 },
 "nbformat": 4,
 "nbformat_minor": 4
}
