{
 "cells": [
  {
   "cell_type": "markdown",
   "metadata": {},
   "source": [
    "# Import Libraries"
   ]
  },
  {
   "cell_type": "code",
   "execution_count": 1,
   "metadata": {},
   "outputs": [],
   "source": [
    "import numpy as np\n",
    "import pandas as pd\n",
    "import matplotlib.pyplot as plt\n",
    "import seaborn as sns"
   ]
  },
  {
   "cell_type": "markdown",
   "metadata": {},
   "source": [
    "# Load dataset "
   ]
  },
  {
   "cell_type": "code",
   "execution_count": 2,
   "metadata": {},
   "outputs": [
    {
     "data": {
      "text/html": [
       "<div>\n",
       "<style scoped>\n",
       "    .dataframe tbody tr th:only-of-type {\n",
       "        vertical-align: middle;\n",
       "    }\n",
       "\n",
       "    .dataframe tbody tr th {\n",
       "        vertical-align: top;\n",
       "    }\n",
       "\n",
       "    .dataframe thead th {\n",
       "        text-align: right;\n",
       "    }\n",
       "</style>\n",
       "<table border=\"1\" class=\"dataframe\">\n",
       "  <thead>\n",
       "    <tr style=\"text-align: right;\">\n",
       "      <th></th>\n",
       "      <th>BHK</th>\n",
       "      <th>Bathroom</th>\n",
       "      <th>price(L)</th>\n",
       "      <th>rate_persqft</th>\n",
       "      <th>area_insqft</th>\n",
       "      <th>construction_statusUnder Construction</th>\n",
       "      <th>construction_statusReady to move</th>\n",
       "      <th>Sale_typenew</th>\n",
       "      <th>Sale_typeresale</th>\n",
       "      <th>location_Thane West</th>\n",
       "      <th>...</th>\n",
       "      <th>location_Mazgaon</th>\n",
       "      <th>location_Sector-18 Ulwe</th>\n",
       "      <th>location_Ulhasnagar</th>\n",
       "      <th>location_vasant vihar thane west</th>\n",
       "      <th>location_New Balaji Nagar</th>\n",
       "      <th>location_Bhayandar West</th>\n",
       "      <th>location_Roadpali</th>\n",
       "      <th>location_Bhandup East</th>\n",
       "      <th>location_Mahim</th>\n",
       "      <th>location_Agripada</th>\n",
       "    </tr>\n",
       "  </thead>\n",
       "  <tbody>\n",
       "    <tr>\n",
       "      <th>0</th>\n",
       "      <td>1</td>\n",
       "      <td>1</td>\n",
       "      <td>18.49</td>\n",
       "      <td>7034.0</td>\n",
       "      <td>263.0</td>\n",
       "      <td>1</td>\n",
       "      <td>0</td>\n",
       "      <td>1</td>\n",
       "      <td>0</td>\n",
       "      <td>0</td>\n",
       "      <td>...</td>\n",
       "      <td>0</td>\n",
       "      <td>0</td>\n",
       "      <td>0</td>\n",
       "      <td>0</td>\n",
       "      <td>0</td>\n",
       "      <td>0</td>\n",
       "      <td>0</td>\n",
       "      <td>0</td>\n",
       "      <td>0</td>\n",
       "      <td>0</td>\n",
       "    </tr>\n",
       "    <tr>\n",
       "      <th>1</th>\n",
       "      <td>1</td>\n",
       "      <td>1</td>\n",
       "      <td>40.00</td>\n",
       "      <td>11869.0</td>\n",
       "      <td>337.0</td>\n",
       "      <td>1</td>\n",
       "      <td>0</td>\n",
       "      <td>1</td>\n",
       "      <td>0</td>\n",
       "      <td>0</td>\n",
       "      <td>...</td>\n",
       "      <td>0</td>\n",
       "      <td>0</td>\n",
       "      <td>0</td>\n",
       "      <td>0</td>\n",
       "      <td>0</td>\n",
       "      <td>0</td>\n",
       "      <td>0</td>\n",
       "      <td>0</td>\n",
       "      <td>0</td>\n",
       "      <td>0</td>\n",
       "    </tr>\n",
       "    <tr>\n",
       "      <th>2</th>\n",
       "      <td>2</td>\n",
       "      <td>2</td>\n",
       "      <td>149.00</td>\n",
       "      <td>22513.0</td>\n",
       "      <td>664.0</td>\n",
       "      <td>1</td>\n",
       "      <td>0</td>\n",
       "      <td>1</td>\n",
       "      <td>0</td>\n",
       "      <td>0</td>\n",
       "      <td>...</td>\n",
       "      <td>0</td>\n",
       "      <td>0</td>\n",
       "      <td>0</td>\n",
       "      <td>0</td>\n",
       "      <td>0</td>\n",
       "      <td>0</td>\n",
       "      <td>0</td>\n",
       "      <td>0</td>\n",
       "      <td>0</td>\n",
       "      <td>0</td>\n",
       "    </tr>\n",
       "    <tr>\n",
       "      <th>3</th>\n",
       "      <td>2</td>\n",
       "      <td>2</td>\n",
       "      <td>49.00</td>\n",
       "      <td>7802.0</td>\n",
       "      <td>628.0</td>\n",
       "      <td>1</td>\n",
       "      <td>0</td>\n",
       "      <td>1</td>\n",
       "      <td>0</td>\n",
       "      <td>0</td>\n",
       "      <td>...</td>\n",
       "      <td>0</td>\n",
       "      <td>0</td>\n",
       "      <td>0</td>\n",
       "      <td>0</td>\n",
       "      <td>0</td>\n",
       "      <td>0</td>\n",
       "      <td>0</td>\n",
       "      <td>0</td>\n",
       "      <td>0</td>\n",
       "      <td>0</td>\n",
       "    </tr>\n",
       "    <tr>\n",
       "      <th>4</th>\n",
       "      <td>1</td>\n",
       "      <td>1</td>\n",
       "      <td>96.00</td>\n",
       "      <td>14222.0</td>\n",
       "      <td>675.0</td>\n",
       "      <td>1</td>\n",
       "      <td>0</td>\n",
       "      <td>1</td>\n",
       "      <td>0</td>\n",
       "      <td>0</td>\n",
       "      <td>...</td>\n",
       "      <td>0</td>\n",
       "      <td>0</td>\n",
       "      <td>0</td>\n",
       "      <td>0</td>\n",
       "      <td>0</td>\n",
       "      <td>0</td>\n",
       "      <td>0</td>\n",
       "      <td>0</td>\n",
       "      <td>0</td>\n",
       "      <td>0</td>\n",
       "    </tr>\n",
       "    <tr>\n",
       "      <th>5</th>\n",
       "      <td>2</td>\n",
       "      <td>2</td>\n",
       "      <td>45.00</td>\n",
       "      <td>7745.0</td>\n",
       "      <td>581.0</td>\n",
       "      <td>1</td>\n",
       "      <td>0</td>\n",
       "      <td>1</td>\n",
       "      <td>0</td>\n",
       "      <td>0</td>\n",
       "      <td>...</td>\n",
       "      <td>0</td>\n",
       "      <td>0</td>\n",
       "      <td>0</td>\n",
       "      <td>0</td>\n",
       "      <td>0</td>\n",
       "      <td>0</td>\n",
       "      <td>0</td>\n",
       "      <td>0</td>\n",
       "      <td>0</td>\n",
       "      <td>0</td>\n",
       "    </tr>\n",
       "    <tr>\n",
       "      <th>6</th>\n",
       "      <td>2</td>\n",
       "      <td>2</td>\n",
       "      <td>81.99</td>\n",
       "      <td>10419.0</td>\n",
       "      <td>787.0</td>\n",
       "      <td>1</td>\n",
       "      <td>0</td>\n",
       "      <td>1</td>\n",
       "      <td>0</td>\n",
       "      <td>0</td>\n",
       "      <td>...</td>\n",
       "      <td>0</td>\n",
       "      <td>0</td>\n",
       "      <td>0</td>\n",
       "      <td>0</td>\n",
       "      <td>0</td>\n",
       "      <td>0</td>\n",
       "      <td>0</td>\n",
       "      <td>0</td>\n",
       "      <td>0</td>\n",
       "      <td>0</td>\n",
       "    </tr>\n",
       "    <tr>\n",
       "      <th>7</th>\n",
       "      <td>2</td>\n",
       "      <td>2</td>\n",
       "      <td>135.00</td>\n",
       "      <td>19679.0</td>\n",
       "      <td>686.0</td>\n",
       "      <td>1</td>\n",
       "      <td>0</td>\n",
       "      <td>1</td>\n",
       "      <td>0</td>\n",
       "      <td>0</td>\n",
       "      <td>...</td>\n",
       "      <td>0</td>\n",
       "      <td>0</td>\n",
       "      <td>0</td>\n",
       "      <td>0</td>\n",
       "      <td>0</td>\n",
       "      <td>0</td>\n",
       "      <td>0</td>\n",
       "      <td>0</td>\n",
       "      <td>0</td>\n",
       "      <td>0</td>\n",
       "    </tr>\n",
       "    <tr>\n",
       "      <th>8</th>\n",
       "      <td>2</td>\n",
       "      <td>2</td>\n",
       "      <td>125.00</td>\n",
       "      <td>19562.0</td>\n",
       "      <td>639.0</td>\n",
       "      <td>1</td>\n",
       "      <td>0</td>\n",
       "      <td>1</td>\n",
       "      <td>0</td>\n",
       "      <td>0</td>\n",
       "      <td>...</td>\n",
       "      <td>0</td>\n",
       "      <td>0</td>\n",
       "      <td>0</td>\n",
       "      <td>0</td>\n",
       "      <td>0</td>\n",
       "      <td>0</td>\n",
       "      <td>0</td>\n",
       "      <td>0</td>\n",
       "      <td>0</td>\n",
       "      <td>0</td>\n",
       "    </tr>\n",
       "    <tr>\n",
       "      <th>9</th>\n",
       "      <td>1</td>\n",
       "      <td>1</td>\n",
       "      <td>32.50</td>\n",
       "      <td>8689.0</td>\n",
       "      <td>374.0</td>\n",
       "      <td>1</td>\n",
       "      <td>0</td>\n",
       "      <td>1</td>\n",
       "      <td>0</td>\n",
       "      <td>0</td>\n",
       "      <td>...</td>\n",
       "      <td>0</td>\n",
       "      <td>0</td>\n",
       "      <td>0</td>\n",
       "      <td>0</td>\n",
       "      <td>0</td>\n",
       "      <td>0</td>\n",
       "      <td>0</td>\n",
       "      <td>0</td>\n",
       "      <td>0</td>\n",
       "      <td>0</td>\n",
       "    </tr>\n",
       "  </tbody>\n",
       "</table>\n",
       "<p>10 rows × 155 columns</p>\n",
       "</div>"
      ],
      "text/plain": [
       "   BHK  Bathroom  price(L)  rate_persqft  area_insqft  \\\n",
       "0    1         1     18.49        7034.0        263.0   \n",
       "1    1         1     40.00       11869.0        337.0   \n",
       "2    2         2    149.00       22513.0        664.0   \n",
       "3    2         2     49.00        7802.0        628.0   \n",
       "4    1         1     96.00       14222.0        675.0   \n",
       "5    2         2     45.00        7745.0        581.0   \n",
       "6    2         2     81.99       10419.0        787.0   \n",
       "7    2         2    135.00       19679.0        686.0   \n",
       "8    2         2    125.00       19562.0        639.0   \n",
       "9    1         1     32.50        8689.0        374.0   \n",
       "\n",
       "   construction_statusUnder Construction  construction_statusReady to move  \\\n",
       "0                                      1                                 0   \n",
       "1                                      1                                 0   \n",
       "2                                      1                                 0   \n",
       "3                                      1                                 0   \n",
       "4                                      1                                 0   \n",
       "5                                      1                                 0   \n",
       "6                                      1                                 0   \n",
       "7                                      1                                 0   \n",
       "8                                      1                                 0   \n",
       "9                                      1                                 0   \n",
       "\n",
       "   Sale_typenew  Sale_typeresale  location_Thane West  ...  location_Mazgaon  \\\n",
       "0             1                0                    0  ...                 0   \n",
       "1             1                0                    0  ...                 0   \n",
       "2             1                0                    0  ...                 0   \n",
       "3             1                0                    0  ...                 0   \n",
       "4             1                0                    0  ...                 0   \n",
       "5             1                0                    0  ...                 0   \n",
       "6             1                0                    0  ...                 0   \n",
       "7             1                0                    0  ...                 0   \n",
       "8             1                0                    0  ...                 0   \n",
       "9             1                0                    0  ...                 0   \n",
       "\n",
       "   location_Sector-18 Ulwe  location_Ulhasnagar  \\\n",
       "0                        0                    0   \n",
       "1                        0                    0   \n",
       "2                        0                    0   \n",
       "3                        0                    0   \n",
       "4                        0                    0   \n",
       "5                        0                    0   \n",
       "6                        0                    0   \n",
       "7                        0                    0   \n",
       "8                        0                    0   \n",
       "9                        0                    0   \n",
       "\n",
       "   location_vasant vihar thane west  location_New Balaji Nagar  \\\n",
       "0                                 0                          0   \n",
       "1                                 0                          0   \n",
       "2                                 0                          0   \n",
       "3                                 0                          0   \n",
       "4                                 0                          0   \n",
       "5                                 0                          0   \n",
       "6                                 0                          0   \n",
       "7                                 0                          0   \n",
       "8                                 0                          0   \n",
       "9                                 0                          0   \n",
       "\n",
       "   location_Bhayandar West  location_Roadpali  location_Bhandup East  \\\n",
       "0                        0                  0                      0   \n",
       "1                        0                  0                      0   \n",
       "2                        0                  0                      0   \n",
       "3                        0                  0                      0   \n",
       "4                        0                  0                      0   \n",
       "5                        0                  0                      0   \n",
       "6                        0                  0                      0   \n",
       "7                        0                  0                      0   \n",
       "8                        0                  0                      0   \n",
       "9                        0                  0                      0   \n",
       "\n",
       "   location_Mahim  location_Agripada  \n",
       "0               0                  0  \n",
       "1               0                  0  \n",
       "2               0                  0  \n",
       "3               0                  0  \n",
       "4               0                  0  \n",
       "5               0                  0  \n",
       "6               0                  0  \n",
       "7               0                  0  \n",
       "8               0                  0  \n",
       "9               0                  0  \n",
       "\n",
       "[10 rows x 155 columns]"
      ]
     },
     "execution_count": 2,
     "metadata": {},
     "output_type": "execute_result"
    }
   ],
   "source": [
    "df = pd.read_csv('final_house_scrape.csv')\n",
    "df.head(10)"
   ]
  },
  {
   "cell_type": "markdown",
   "metadata": {},
   "source": [
    "# select the dependent and independent features for prediction."
   ]
  },
  {
   "cell_type": "code",
   "execution_count": 3,
   "metadata": {},
   "outputs": [
    {
     "name": "stdout",
     "output_type": "stream",
     "text": [
      "Shape of X =  (81212, 154)\n",
      "Shape of y =  (81212,)\n"
     ]
    }
   ],
   "source": [
    "X = df.drop(\"price(L)\", axis=1)\n",
    "y = df['price(L)']\n",
    "print('Shape of X = ', X.shape)\n",
    "print('Shape of y = ', y.shape)"
   ]
  },
  {
   "cell_type": "markdown",
   "metadata": {},
   "source": [
    "# split the data into train and test "
   ]
  },
  {
   "cell_type": "code",
   "execution_count": 4,
   "metadata": {},
   "outputs": [
    {
     "name": "stdout",
     "output_type": "stream",
     "text": [
      "Shape of X_train =  (64969, 154)\n",
      "Shape of y_train =  (64969,)\n",
      "Shape of X_test =  (16243, 154)\n",
      "Shape of y_test =  (16243,)\n"
     ]
    }
   ],
   "source": [
    "from sklearn.model_selection import train_test_split\n",
    "X_train, X_test, y_train, y_test = train_test_split(X, y, test_size = 0.2, random_state = 51)\n",
    "print('Shape of X_train = ', X_train.shape)\n",
    "print('Shape of y_train = ', y_train.shape)\n",
    "print('Shape of X_test = ', X_test.shape)\n",
    "print('Shape of y_test = ', y_test.shape)"
   ]
  },
  {
   "cell_type": "markdown",
   "metadata": {},
   "source": [
    "# Feature Scaling"
   ]
  },
  {
   "cell_type": "code",
   "execution_count": 5,
   "metadata": {},
   "outputs": [],
   "source": [
    "from sklearn.preprocessing import StandardScaler\n",
    "sc = StandardScaler()\n",
    "sc.fit(X_train)\n",
    "X_train= sc.transform(X_train)\n",
    "X_test = sc.transform(X_test)"
   ]
  },
  {
   "cell_type": "markdown",
   "metadata": {},
   "source": [
    "# Model Building"
   ]
  },
  {
   "cell_type": "markdown",
   "metadata": {},
   "source": [
    "# Linear Regression"
   ]
  },
  {
   "cell_type": "code",
   "execution_count": 6,
   "metadata": {},
   "outputs": [],
   "source": [
    "from sklearn.linear_model import LinearRegression\n",
    "from sklearn.linear_model import Lasso\n",
    "from sklearn.metrics import mean_squared_error\n",
    "lr = LinearRegression()\n",
    "lr_lasso = Lasso()"
   ]
  },
  {
   "cell_type": "code",
   "execution_count": 7,
   "metadata": {},
   "outputs": [],
   "source": [
    "def rmse(y_test, y_pred):\n",
    "    return np.sqrt(mean_squared_error(y_test, y_pred))"
   ]
  },
  {
   "cell_type": "code",
   "execution_count": 8,
   "metadata": {},
   "outputs": [
    {
     "data": {
      "text/plain": [
       "(0.9230118142259816, 33.24236339816179)"
      ]
     },
     "execution_count": 8,
     "metadata": {},
     "output_type": "execute_result"
    }
   ],
   "source": [
    "lr.fit(X_train, y_train)\n",
    "lr_score = lr.score(X_test, y_test) \n",
    "lr_rmse = rmse(y_test, lr.predict(X_test))\n",
    "lr_score, lr_rmse"
   ]
  },
  {
   "cell_type": "markdown",
   "metadata": {},
   "source": [
    "# Lasso "
   ]
  },
  {
   "cell_type": "code",
   "execution_count": 9,
   "metadata": {},
   "outputs": [
    {
     "data": {
      "text/plain": [
       "(0.9153004156388886, 34.86747430885102)"
      ]
     },
     "execution_count": 9,
     "metadata": {},
     "output_type": "execute_result"
    }
   ],
   "source": [
    "lr_lasso.fit(X_train, y_train)\n",
    "lr_lasso_score=lr_lasso.score(X_test, y_test) \n",
    "lr_lasso_rmse = rmse(y_test, lr_lasso.predict(X_test))\n",
    "lr_lasso_score, lr_lasso_rmse"
   ]
  },
  {
   "cell_type": "markdown",
   "metadata": {},
   "source": [
    "# Random Forest"
   ]
  },
  {
   "cell_type": "code",
   "execution_count": 10,
   "metadata": {},
   "outputs": [
    {
     "data": {
      "text/plain": [
       "(0.9996326889523914, 2.2961319695663436)"
      ]
     },
     "execution_count": 10,
     "metadata": {},
     "output_type": "execute_result"
    }
   ],
   "source": [
    "from sklearn.ensemble import RandomForestRegressor\n",
    "rfr = RandomForestRegressor()\n",
    "rfr.fit(X_train,y_train)\n",
    "rfr_score=rfr.score(X_test,y_test) \n",
    "rfr_rmse = rmse(y_test, rfr.predict(X_test))\n",
    "rfr_score, rfr_rmse"
   ]
  },
  {
   "cell_type": "markdown",
   "metadata": {},
   "source": [
    "# Cross validation"
   ]
  },
  {
   "cell_type": "code",
   "execution_count": 12,
   "metadata": {},
   "outputs": [
    {
     "data": {
      "text/plain": [
       "(array([0.99868624, 0.99963287, 0.99945367, 0.9994672 , 0.99961462,\n",
       "        0.99961539, 0.99925568, 0.99967598, 0.9995487 , 0.99944481]),\n",
       " 0.999439515609599)"
      ]
     },
     "execution_count": 12,
     "metadata": {},
     "output_type": "execute_result"
    }
   ],
   "source": [
    "from sklearn.model_selection import cross_val_score\n",
    "\n",
    "cvs_rfr = cross_val_score(rfr, X_train,y_train, cv = 10)\n",
    "cvs_rfr, cvs_rfr.mean()"
   ]
  },
  {
   "cell_type": "code",
   "execution_count": 13,
   "metadata": {},
   "outputs": [
    {
     "data": {
      "text/plain": [
       "(array([0.99866336, 0.99964392, 0.99946825, 0.99947739, 0.99961585,\n",
       "        0.99960322, 0.99926379, 0.99967454, 0.99958261, 0.99946422]),\n",
       " 0.999445715132658)"
      ]
     },
     "execution_count": 13,
     "metadata": {},
     "output_type": "execute_result"
    }
   ],
   "source": [
    "cvs_rfr2 = cross_val_score(RandomForestRegressor(), X_train,y_train, cv = 10)\n",
    "cvs_rfr2, cvs_rfr2.mean()"
   ]
  },
  {
   "cell_type": "markdown",
   "metadata": {},
   "source": [
    "# Serialize Models"
   ]
  },
  {
   "cell_type": "code",
   "execution_count": 14,
   "metadata": {},
   "outputs": [],
   "source": [
    "import pickle\n",
    "# open a file, where you ant to store the data\n",
    "file = open('lasso_model.pkl', 'wb')\n",
    "\n",
    "# dump information to that file\n",
    "pickle.dump(lr_lasso, file)"
   ]
  },
  {
   "cell_type": "code",
   "execution_count": 15,
   "metadata": {},
   "outputs": [],
   "source": [
    "import pickle\n",
    "# open a file, where you ant to store the data\n",
    "file = open('random_model.pkl', 'wb')\n",
    "\n",
    "# dump information to that file\n",
    "pickle.dump(rfr, file)"
   ]
  },
  {
   "cell_type": "code",
   "execution_count": 16,
   "metadata": {},
   "outputs": [],
   "source": [
    "import pickle\n",
    "# open a file, where you ant to store the data\n",
    "file = open('linear_model.pkl', 'wb')\n",
    "\n",
    "# dump information to that file\n",
    "pickle.dump(lr, file)"
   ]
  },
  {
   "cell_type": "code",
   "execution_count": 17,
   "metadata": {},
   "outputs": [
    {
     "data": {
      "text/plain": [
       "['BHK',\n",
       " 'Bathroom',\n",
       " 'rate_persqft',\n",
       " 'area_insqft',\n",
       " 'construction_statusUnder Construction',\n",
       " 'construction_statusReady to move',\n",
       " 'Sale_typenew',\n",
       " 'Sale_typeresale',\n",
       " 'location_Thane West',\n",
       " 'location_Mira Road East',\n",
       " 'location_Kharghar',\n",
       " 'location_Kandivali East',\n",
       " 'location_Ulwe',\n",
       " 'location_Dombivali',\n",
       " 'location_Virar',\n",
       " 'location_Chembur',\n",
       " 'location_Kalyan West',\n",
       " 'location_Panvel',\n",
       " 'location_Andheri West',\n",
       " 'location_Ambernath East',\n",
       " 'location_Dombivali East',\n",
       " 'location_Badlapur East',\n",
       " 'location_Malad West',\n",
       " 'location_Mulund West',\n",
       " 'location_Taloja',\n",
       " 'location_Andheri East',\n",
       " 'location_Powai',\n",
       " 'location_Goregaon East',\n",
       " 'location_Kandivali West',\n",
       " 'location_Borivali East',\n",
       " 'location_Badlapur West',\n",
       " 'location_Kamothe',\n",
       " 'location_Goregaon West',\n",
       " 'location_Naigaon East',\n",
       " 'location_Borivali West',\n",
       " 'location_Bhandup West',\n",
       " 'location_Malad East',\n",
       " 'location_Kanjurmarg',\n",
       " 'location_Vasai',\n",
       " 'location_Kalyan East',\n",
       " 'location_Ghansoli',\n",
       " 'location_Ambernath West',\n",
       " 'location_Dahisar',\n",
       " 'location_Neral',\n",
       " 'location_Wadala',\n",
       " 'location_Nala Sopara',\n",
       " 'location_Jogeshwari West',\n",
       " 'location_Vikhroli',\n",
       " 'location_Koper Khairane',\n",
       " 'location_Bhiwandi',\n",
       " 'location_Santacruz East',\n",
       " 'location_Seawoods',\n",
       " 'location_Dombivli (West)',\n",
       " 'location_Titwala',\n",
       " 'location_Ville Parle East',\n",
       " 'location_Palghar',\n",
       " 'location_Airoli',\n",
       " 'location_Virar West',\n",
       " 'location_Dronagiri',\n",
       " 'location_Badlapur',\n",
       " 'location_Boisar',\n",
       " 'location_Ghatkopar East',\n",
       " 'location_Kurla',\n",
       " 'location_Sion',\n",
       " 'location_Parel',\n",
       " 'location_Nerul',\n",
       " 'location_Karanjade',\n",
       " 'location_Thakurli',\n",
       " 'location_Karjat',\n",
       " 'location_Bhayandar East',\n",
       " 'location_Bandra West',\n",
       " 'location_Mulund East',\n",
       " 'location_Sanpada',\n",
       " 'location_Kalyan',\n",
       " 'location_Ghatkopar West',\n",
       " 'location_Thane',\n",
       " 'location_Lower Parel',\n",
       " 'location_Ambarnath',\n",
       " 'location_Kalwa',\n",
       " 'location_Jogeshwari East',\n",
       " 'location_Bandra East',\n",
       " 'location_Belapur',\n",
       " 'location_Nalasopara West',\n",
       " 'location_Anjurdive',\n",
       " 'location_Hiranandani Estates',\n",
       " 'location_Kalamboli',\n",
       " 'location_Chembur East',\n",
       " 'location_Vasai West',\n",
       " 'location_Worli',\n",
       " 'location_Prabhadevi',\n",
       " 'location_mumbai',\n",
       " 'location_Virar East',\n",
       " 'location_Shil Phata',\n",
       " 'location_kasaradavali thane west',\n",
       " 'location_Vashi',\n",
       " 'location_Dadar West',\n",
       " 'location_Titwala East',\n",
       " 'location_thakur village kandivali east',\n",
       " 'location_Manpada',\n",
       " 'location_Mira Road',\n",
       " 'location_Nilje Gaon',\n",
       " 'location_Vangani',\n",
       " 'location_Vasai east',\n",
       " 'location_Santacruz West',\n",
       " 'location_Rasayani',\n",
       " 'location_Dahisar East',\n",
       " 'location_Pisavli Village',\n",
       " 'location_Juhu',\n",
       " 'location_Khopoli',\n",
       " 'location_Dahisar West',\n",
       " 'location_Vikroli East',\n",
       " 'location_Andheri',\n",
       " 'location_Palava',\n",
       " 'location_dombivli west',\n",
       " 'location_Santosh Nagar',\n",
       " 'location_Dadar East',\n",
       " 'location_kolshet',\n",
       " 'location_Deonar',\n",
       " 'location_Nalasopara East',\n",
       " 'location_Ghodbunder Road',\n",
       " 'location_Hendre Pada',\n",
       " 'location_Byculla',\n",
       " 'location_Additional M.I.D.C',\n",
       " 'location_Tilak Nagar',\n",
       " 'location_Diva',\n",
       " 'location_Wadala East',\n",
       " 'location_Majiwada',\n",
       " 'location_Mahalaxmi',\n",
       " 'location_Mulund',\n",
       " 'location_Bandra Kurla Complex',\n",
       " 'location_Taloje',\n",
       " 'location_Khar West',\n",
       " 'location_Nandivali Gaon',\n",
       " 'location_Saphale',\n",
       " 'location_Kolshet Road',\n",
       " 'location_matunga east',\n",
       " 'location_Kurla West',\n",
       " 'location_Sector 17 Ulwe',\n",
       " 'location_Thakur Village',\n",
       " 'location_new Panvel navi mumbai',\n",
       " 'location_Matunga',\n",
       " 'location_Umroli',\n",
       " 'location_Greater Khanda',\n",
       " 'location_Khar',\n",
       " 'location_Mazgaon',\n",
       " 'location_Sector-18 Ulwe',\n",
       " 'location_Ulhasnagar',\n",
       " 'location_vasant vihar thane west',\n",
       " 'location_New Balaji Nagar',\n",
       " 'location_Bhayandar West',\n",
       " 'location_Roadpali',\n",
       " 'location_Bhandup East',\n",
       " 'location_Mahim',\n",
       " 'location_Agripada']"
      ]
     },
     "execution_count": 17,
     "metadata": {},
     "output_type": "execute_result"
    }
   ],
   "source": [
    "list(X.columns)"
   ]
  },
  {
   "cell_type": "markdown",
   "metadata": {},
   "source": [
    "# Method for Prediction"
   ]
  },
  {
   "cell_type": "code",
   "execution_count": 18,
   "metadata": {},
   "outputs": [],
   "source": [
    "def predict_house_price(model,BHK,Bathroom,rate_persqft,area_insqft,construction_status,Sale_type,location):\n",
    "    x =np.zeros(len(X.columns)) # create zero numpy array, len = 107 as input value for model\n",
    "    # adding feature's value accorind to their column index\n",
    "    x[0]=BHK\n",
    "    x[1]=Bathroom\n",
    "    x[2]=rate_persqft\n",
    "    x[3]=area_insqft\n",
    " \n",
    "    if \"construction_status\"==\"Ready To Move\":\n",
    "        x[5]=1\n",
    "     \n",
    "    if \"Sale_type\"==\"resale\":\n",
    "        x[7]=1\n",
    " \n",
    "    if 'location_'+location in X.columns:\n",
    "        loc_index = np.where(X.columns==\"location_\"+location)[0][0]\n",
    "        x[loc_index] =1\n",
    " \n",
    "    #print(loc_index)\n",
    " \n",
    "  #print(x)\n",
    " \n",
    "  # feature scaling\n",
    "    x = sc.transform([x])[0] # give 2d np array for feature scaling and get 1d scaled np array\n",
    "  #print(x)\n",
    " \n",
    "    return model.predict([x])[0] # return the predicted value by train Random forest model\n"
   ]
  },
  {
   "cell_type": "code",
   "execution_count": 26,
   "metadata": {},
   "outputs": [
    {
     "data": {
      "text/plain": [
       "-613343954092892.8"
      ]
     },
     "execution_count": 26,
     "metadata": {},
     "output_type": "execute_result"
    }
   ],
   "source": [
    "#Test on Linear Part-1\n",
    "predict_house_price(model=lr ,BHK=1,Bathroom=1,rate_persqft=14545,area_insqft=550,construction_status=\"Ready to move\",Sale_type=\"resale\",location=\"Ghatkopar\") "
   ]
  },
  {
   "cell_type": "code",
   "execution_count": 27,
   "metadata": {},
   "outputs": [
    {
     "data": {
      "text/plain": [
       "-699780469738048.1"
      ]
     },
     "execution_count": 27,
     "metadata": {},
     "output_type": "execute_result"
    }
   ],
   "source": [
    "# Test on Linear part 2\n",
    "predict_house_price(model=lr,BHK=1,Bathroom=2,rate_persqft=14222,area_insqft=675,construction_status=\"Under Construction\",Sale_type=\"new\",location=\"Jogeshwari West\")"
   ]
  },
  {
   "cell_type": "code",
   "execution_count": 25,
   "metadata": {},
   "outputs": [
    {
     "data": {
      "text/plain": [
       "86.59369534009585"
      ]
     },
     "execution_count": 25,
     "metadata": {},
     "output_type": "execute_result"
    }
   ],
   "source": [
    "#Test on Lasso Part-1\n",
    "predict_house_price(model=lr_lasso,BHK=1,Bathroom=1,rate_persqft=14545,area_insqft=550,construction_status=\"Ready to move\",Sale_type=\"resale\",location=\"Ghatkopar\") "
   ]
  },
  {
   "cell_type": "code",
   "execution_count": 20,
   "metadata": {},
   "outputs": [
    {
     "data": {
      "text/plain": [
       "103.25889568621106"
      ]
     },
     "execution_count": 20,
     "metadata": {},
     "output_type": "execute_result"
    }
   ],
   "source": [
    "# Test on lassso part 2\n",
    "predict_house_price(model=lr_lasso,BHK=1,Bathroom=2,rate_persqft=14222,area_insqft=675,construction_status=\"Under Construction\",Sale_type=\"new\",location=\"Jogeshwari West\")"
   ]
  },
  {
   "cell_type": "code",
   "execution_count": 21,
   "metadata": {},
   "outputs": [
    {
     "data": {
      "text/plain": [
       "80.0"
      ]
     },
     "execution_count": 21,
     "metadata": {},
     "output_type": "execute_result"
    }
   ],
   "source": [
    "# Test on Random forest part 1\n",
    "predict_house_price(model=rfr,BHK=1,Bathroom=1,rate_persqft=14545,area_insqft=550,construction_status=\"Ready to move\",Sale_type=\"resale\",location=\"Ghatkopar\")"
   ]
  },
  {
   "cell_type": "code",
   "execution_count": 22,
   "metadata": {},
   "outputs": [
    {
     "data": {
      "text/plain": [
       "95.88"
      ]
     },
     "execution_count": 22,
     "metadata": {},
     "output_type": "execute_result"
    }
   ],
   "source": [
    "# Test on Random forest part 2\n",
    "predict_house_price(model=rfr,BHK=1,Bathroom=2,rate_persqft=14222,area_insqft=675,construction_status=\"Under Construction\",Sale_type=\"new\",location=\"Jogeshwari West\")"
   ]
  },
  {
   "cell_type": "code",
   "execution_count": null,
   "metadata": {},
   "outputs": [],
   "source": [
    "# From the Above predictions we see that in Lasso model there is error in price value around 5-6 lacs from original price\n",
    "#While RandomForest has negligible error compared to Lasso and Linear regression so we will use Random Forest for further user-interface\n",
    "#Linear Regression model totally failed to predict the values."
   ]
  },
  {
   "cell_type": "code",
   "execution_count": null,
   "metadata": {},
   "outputs": [],
   "source": []
  }
 ],
 "metadata": {
  "kernelspec": {
   "display_name": "Python 3",
   "language": "python",
   "name": "python3"
  },
  "language_info": {
   "codemirror_mode": {
    "name": "ipython",
    "version": 3
   },
   "file_extension": ".py",
   "mimetype": "text/x-python",
   "name": "python",
   "nbconvert_exporter": "python",
   "pygments_lexer": "ipython3",
   "version": "3.8.5"
  }
 },
 "nbformat": 4,
 "nbformat_minor": 4
}
